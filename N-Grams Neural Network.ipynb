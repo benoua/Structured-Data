{
 "cells": [
  {
   "cell_type": "code",
   "execution_count": 15,
   "metadata": {
    "collapsed": false
   },
   "outputs": [
    {
     "name": "stdout",
     "output_type": "stream",
     "text": [
      "The autoreload extension is already loaded. To reload it, use:\n",
      "  %reload_ext autoreload\n"
     ]
    }
   ],
   "source": [
    "%matplotlib inline\n",
    "import matplotlib.pyplot as plt\n",
    "import numpy as np\n",
    "import os\n",
    "import os.path as op\n",
    "import shutil\n",
    "from zipfile import ZipFile\n",
    "from keras.preprocessing.image import array_to_img, img_to_array, load_img\n",
    "from utils import get_image_paths, word_from_image_path, preprocess_image, print_im, TextTransform, N_CHARS, SEQUENCE_LENGTH, IMAGE_DIMENSIONS\n",
    "from utils import NgramTransform, load_trained_CNN_weights\n",
    "from multi_gpu import make_parallel\n",
    "\n",
    "%load_ext autoreload\n",
    "%autoreload 2"
   ]
  },
  {
   "cell_type": "markdown",
   "metadata": {},
   "source": [
    "#### Building N-grams Neural Network"
   ]
  },
  {
   "cell_type": "code",
   "execution_count": 16,
   "metadata": {
    "collapsed": true
   },
   "outputs": [],
   "source": [
    "cnn = load_trained_CNN_weights('p_model_0.h5')"
   ]
  },
  {
   "cell_type": "code",
   "execution_count": 17,
   "metadata": {
    "collapsed": false
   },
   "outputs": [],
   "source": [
    "from keras.models import Sequential, Model, load_model\n",
    "from keras.layers import Conv2D, MaxPooling2D, Dropout, Dense, Reshape, Activation, GlobalAveragePooling2D\n",
    "from keras.layers import Flatten\n",
    "\n",
    "## Decapitation of previous trained CNN\n",
    "input = cnn.layers[0].input\n",
    "output = cnn.layers[-4].output\n",
    "base_ngrams = Model(input=input, output=output)\n",
    "# input_shape = (None, 32, 100, 1,)\n",
    "\n",
    "ngrams = Sequential()\n",
    "ngrams.add(base_ngrams)\n",
    "\n",
    "ngrams.add(Dense(10000, activation='sigmoid', name= \"10kdense\")) \n",
    "\n",
    "\n",
    "ngrams.compile(optimizer='adam', loss='categorical_crossentropy')"
   ]
  },
  {
   "cell_type": "code",
   "execution_count": 18,
   "metadata": {
    "collapsed": false,
    "scrolled": true
   },
   "outputs": [],
   "source": [
    "# ## Parellelize model \n",
    "# p_model_ngrams = make_parallel(ngrams, 4)\n",
    "# p_model_ngrams.compile(optimizer='adam', loss='mse')"
   ]
  },
  {
   "cell_type": "markdown",
   "metadata": {},
   "source": [
    "### Loading Images and Batch"
   ]
  },
  {
   "cell_type": "code",
   "execution_count": 19,
   "metadata": {
    "collapsed": false
   },
   "outputs": [],
   "source": [
    "from tqdm import tqdm, tqdm_notebook\n",
    "base_dir = '/mnt/c/Users/benoua/Google Drive/Master X - Data Sciences/2_Structured Data/Structured-Data/mjsynth'\n",
    "# base_dir = '/mnt/mjsynth/mnt/ramdisk/max/90kDICT32px/'\n",
    "\n",
    "images_paths = get_image_paths(base_dir)\n",
    "#%%time\n",
    "ims = []\n",
    "errors_1, errors_2 = [], []\n",
    "for i, im in enumerate(images_paths[:12]):\n",
    "    try:\n",
    "        ims.append(preprocess_image(img_to_array(load_img(im, grayscale=True))))\n",
    "    except OSError:\n",
    "        errors_1.append(i)"
   ]
  },
  {
   "cell_type": "code",
   "execution_count": 20,
   "metadata": {
    "collapsed": false
   },
   "outputs": [
    {
     "data": {
      "text/plain": [
       "(12, 32, 100, 1)"
      ]
     },
     "execution_count": 20,
     "metadata": {},
     "output_type": "execute_result"
    }
   ],
   "source": [
    "batch = np.stack(ims).reshape(12, 32, 100, 1)\n",
    "batch.shape"
   ]
  },
  {
   "cell_type": "code",
   "execution_count": 51,
   "metadata": {
    "collapsed": false
   },
   "outputs": [],
   "source": [
    "### NGram model output vector \n",
    "ngram_transformer = NgramTransform()"
   ]
  },
  {
   "cell_type": "code",
   "execution_count": 52,
   "metadata": {
    "collapsed": false
   },
   "outputs": [],
   "source": [
    "batch_y = ngram_transformer.make_batch_labels(images_paths[:12], False)\n",
    "batch_y = batch_y.reshape(batch_y.shape[0], batch_y.shape[2]).astype(float)"
   ]
  },
  {
   "cell_type": "markdown",
   "metadata": {},
   "source": [
    "### Scaling gradients/classes to labels frequencies"
   ]
  },
  {
   "cell_type": "code",
   "execution_count": 65,
   "metadata": {
    "collapsed": false
   },
   "outputs": [
    {
     "data": {
      "text/plain": [
       "['a', 'e', 'i', 'n', 'r', 's']"
      ]
     },
     "execution_count": 65,
     "metadata": {},
     "output_type": "execute_result"
    }
   ],
   "source": [
    "# check which are the most frequent ngrams\n",
    "ngram_transformer.ngram_from_matrix(ngram_transformer.X_tf > 5000000)"
   ]
  },
  {
   "cell_type": "code",
   "execution_count": 66,
   "metadata": {
    "collapsed": true
   },
   "outputs": [],
   "source": [
    "# Creating labels dictionnary\n",
    "labels_dict = {i: ngram_transformer.X_tf[i] for i in range(10000) }"
   ]
  },
  {
   "cell_type": "code",
   "execution_count": 68,
   "metadata": {
    "collapsed": false
   },
   "outputs": [],
   "source": [
    "# fitting with respect to the labels scaling\n",
    "# ngrams.fit(batch, batch_y, nb_epoch=1, class_weight=labels_dict)"
   ]
  },
  {
   "cell_type": "markdown",
   "metadata": {},
   "source": [
    "### Predictions"
   ]
  },
  {
   "cell_type": "code",
   "execution_count": null,
   "metadata": {
    "collapsed": true
   },
   "outputs": [],
   "source": [
    "predictions = ngrams.predict(batch)"
   ]
  }
 ],
 "metadata": {
  "anaconda-cloud": {},
  "kernelspec": {
   "display_name": "Python [conda root]",
   "language": "python",
   "name": "conda-root-py"
  },
  "language_info": {
   "codemirror_mode": {
    "name": "ipython",
    "version": 3
   },
   "file_extension": ".py",
   "mimetype": "text/x-python",
   "name": "python",
   "nbconvert_exporter": "python",
   "pygments_lexer": "ipython3",
   "version": "3.5.2"
  }
 },
 "nbformat": 4,
 "nbformat_minor": 1
}

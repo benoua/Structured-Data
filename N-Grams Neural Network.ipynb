{
 "cells": [
  {
   "cell_type": "code",
   "execution_count": 1,
   "metadata": {
    "collapsed": false
   },
   "outputs": [
    {
     "name": "stderr",
     "output_type": "stream",
     "text": [
      "Using TensorFlow backend.\n"
     ]
    }
   ],
   "source": [
    "%matplotlib inline\n",
    "import matplotlib.pyplot as plt\n",
    "import numpy as np\n",
    "import os\n",
    "import os.path as op\n",
    "import shutil\n",
    "from zipfile import ZipFile\n",
    "from keras.preprocessing.image import array_to_img, img_to_array, load_img\n",
    "from utils import get_image_paths, word_from_image_path, preprocess_image, print_im, TextTransform, N_CHARS, SEQUENCE_LENGTH, IMAGE_DIMENSIONS\n",
    "from utils import NgramTransform, load_trained_CNN_weights, base_cnn_in_keras\n",
    "from multi_gpu import make_parallel\n",
    "import time \n",
    "import datetime\n",
    "\n",
    "%load_ext autoreload\n",
    "%autoreload 2"
   ]
  },
  {
   "cell_type": "markdown",
   "metadata": {},
   "source": [
    "#### Building N-grams Neural Network"
   ]
  },
  {
   "cell_type": "code",
   "execution_count": 2,
   "metadata": {
    "collapsed": false
   },
   "outputs": [],
   "source": [
    "from keras.models import Sequential, Model, load_model\n",
    "from keras.layers import Conv2D, MaxPooling2D, Dropout, Dense, Reshape, Activation, GlobalAveragePooling2D\n",
    "from keras.layers import Flatten\n",
    "from utils import IMAGE_DIMENSIONS, SEQUENCE_LENGTH, N_CHARS\n",
    "\n"
   ]
  },
  {
   "cell_type": "code",
   "execution_count": 3,
   "metadata": {
    "collapsed": true
   },
   "outputs": [],
   "source": [
    "# loading base CNN model - no pre trained weights\n",
    "base_cnn = base_cnn_in_keras()\n",
    "import pickle\n",
    "# loading weights pretrained\n",
    "with open('cnn_weights.pickle', 'rb') as handler:\n",
    "    trained_weights = pickle.load(handler)"
   ]
  },
  {
   "cell_type": "code",
   "execution_count": 4,
   "metadata": {
    "collapsed": false
   },
   "outputs": [],
   "source": [
    "layers_names = ['convo0', 'convo1', 'convo2', 'convo3', 'convo4', 'Dense1', 'Dense2']\n",
    "# \n",
    "\n",
    "for layer in layers_names:\n",
    "    get_layer = base_cnn.get_layer(name=layer)\n",
    "    get_layer.set_weights([trained_weights[layer][0], trained_weights[layer][1]])"
   ]
  },
  {
   "cell_type": "code",
   "execution_count": 5,
   "metadata": {
    "collapsed": true
   },
   "outputs": [],
   "source": [
    "# N-grams model\n",
    "model_ngrams = base_cnn\n",
    "model_ngrams.add(Dense(10000, activation='sigmoid', name= \"10kdense\")) \n",
    "model_ngrams.compile(optimizer='adam', loss='categorical_crossentropy')"
   ]
  },
  {
   "cell_type": "code",
   "execution_count": 6,
   "metadata": {
    "collapsed": false,
    "scrolled": true
   },
   "outputs": [],
   "source": [
    "## Parellelize model \n",
    "p_model_ngrams = make_parallel(model_ngrams, 4)\n",
    "p_model_ngrams.compile(optimizer='adam', loss='categorical_crossentropy')"
   ]
  },
  {
   "cell_type": "markdown",
   "metadata": {},
   "source": [
    "### Loading Images and Batch"
   ]
  },
  {
   "cell_type": "code",
   "execution_count": 8,
   "metadata": {
    "collapsed": false
   },
   "outputs": [],
   "source": [
    "import h5py, pickle\n",
    "# %%time\n",
    "with h5py.File('/mnt/x_5m_2ndprocess.h5', 'r') as hf:\n",
    "    x = hf['x'][:]\n",
    "# with h5py.File('/mnt/y_5m_2ndprocess.h5', 'r') as hf:\n",
    "#     y = hf['x'][:]\n",
    "with open('/mnt/y_ngrams_5m_2ndprocess.h5', 'rb') as f:\n",
    "    y_final = pickle.load(f)"
   ]
  },
  {
   "cell_type": "code",
   "execution_count": 10,
   "metadata": {
    "collapsed": false
   },
   "outputs": [],
   "source": [
    "with open('tt_new.pickle', 'rb') as f:\n",
    "    tt = pickle.load(f)"
   ]
  },
  {
   "cell_type": "code",
   "execution_count": 11,
   "metadata": {
    "collapsed": false
   },
   "outputs": [],
   "source": [
    "### NGram model output vector \n",
    "ngram_transformer = NgramTransform()"
   ]
  },
  {
   "cell_type": "code",
   "execution_count": 12,
   "metadata": {
    "collapsed": false
   },
   "outputs": [],
   "source": [
    "# y_list =[]\n",
    "# for i in range(y.shape[0]):\n",
    "#     y_list.append(ngram_transformer.transform(tt.word_from_matrix(y[i])))"
   ]
  },
  {
   "cell_type": "code",
   "execution_count": 13,
   "metadata": {
    "collapsed": false
   },
   "outputs": [],
   "source": [
    "# from scipy.sparse import vstack\n",
    "# y_final = vstack(y_list)"
   ]
  },
  {
   "cell_type": "code",
   "execution_count": 14,
   "metadata": {
    "collapsed": false
   },
   "outputs": [],
   "source": [
    "# y_final.shape"
   ]
  },
  {
   "cell_type": "code",
   "execution_count": 15,
   "metadata": {
    "collapsed": false
   },
   "outputs": [],
   "source": [
    "# import pickle\n",
    "# with open('/mnt/y_ngrams_5m_2ndprocess.h5', 'wb') as f:\n",
    "#     pickle.dump(y_final,f)"
   ]
  },
  {
   "cell_type": "markdown",
   "metadata": {},
   "source": [
    "### Scaling gradients/classes to labels frequencies"
   ]
  },
  {
   "cell_type": "code",
   "execution_count": 16,
   "metadata": {
    "collapsed": false
   },
   "outputs": [
    {
     "data": {
      "text/plain": [
       "['a', 'e', 'i', 'n', 'r', 's']"
      ]
     },
     "execution_count": 16,
     "metadata": {},
     "output_type": "execute_result"
    }
   ],
   "source": [
    "# check which are the most frequent ngrams\n",
    "ngram_transformer.ngram_from_matrix(ngram_transformer.X_tf > 5000000)"
   ]
  },
  {
   "cell_type": "code",
   "execution_count": 17,
   "metadata": {
    "collapsed": true
   },
   "outputs": [],
   "source": [
    "# Creating labels dictionnary\n",
    "labels_dict = {i: ngram_transformer.X_tf[i] for i in range(10000) }"
   ]
  },
  {
   "cell_type": "code",
   "execution_count": 18,
   "metadata": {
    "collapsed": true
   },
   "outputs": [],
   "source": [
    "## small batches \n",
    "one_million = 1000000\n",
    "hundred_thousands = 100000\n",
    "thousands = 1000\n",
    "ten_thousands = 10000"
   ]
  },
  {
   "cell_type": "code",
   "execution_count": 19,
   "metadata": {
    "collapsed": false
   },
   "outputs": [
    {
     "data": {
      "text/plain": [
       "((4998656, 32, 100), (4998656, 10000))"
      ]
     },
     "execution_count": 19,
     "metadata": {},
     "output_type": "execute_result"
    }
   ],
   "source": [
    "x.shape, y_final.shape"
   ]
  },
  {
   "cell_type": "code",
   "execution_count": 20,
   "metadata": {
    "collapsed": false
   },
   "outputs": [],
   "source": [
    "# fitting with respect to the labels scaling\n",
    "# p_model_ngrams.fit(batch, batch_y, nb_epoch=10, class_weight=labels_dict)"
   ]
  },
  {
   "cell_type": "code",
   "execution_count": null,
   "metadata": {
    "collapsed": false
   },
   "outputs": [
    {
     "name": "stdout",
     "output_type": "stream",
     "text": [
      "Epoch 1/1\n",
      " 544/8656 [>.............................] - ETA: 221s - loss: 737310366.1176\b\b\b\b\b\b\b\b\b\b\b\b\b\b\b\b\b\b\b\b\b\b\b\b\b\b\b\b\b\b\b\b\b\b\b\b\b\b\b\b\b\b\b\b\b\b\b\b\b\b\b\b\b\b\b\b\b\b\b\b\b\b\b\b\b\b\b\b\b\b\b\b\b\b\b\b\b\b\b\b\b\b\b\b\b\b\b\b\b\b\b\b\b\b\b\b\b\b\b\b\b\b\b\b\b\b\b\b\b\b\b\b\b\b\b\b\b\b\b\b\b\b\b\b\b\b\b\b\b\b\b\b\b\b\b\b\b\b\b\b\b\b\b\b\b\b\b\b\b\b\b\b\b\b\b\b\b\b\b\b\b\b\b\b\b\b\b\b\b\b\b\b\b\b\b\b\b\b\b\b\b\b\b\b\b\b\b\b\b\b\b\b\b\b\b\b\b\b\b\b\b\b\b\b\b\b\b\b\b\b\b\b\b\b\b\b\b\b\b\b\b\b\b\b\b\b\b\b\b\b\b\b\b\b\b\b\b\b\b\b\b\b\b\b\b\b\b\b\b\b\b\b\b\b\b\b\b\b\b\b\b\b\b\b\b\b\b\b\b\b\b\b\b\b\b\b\b\b\b\b\b\b\b\b\b\b\b\b\b\b\b\b\b\b\b\b\b\b\b\b\b\b\b\b\b\b\b\b\b\b\b\b\b\b\b\b\b\b\b\b\b\b\b\b\b\b\b\b\b\b\b\b\b\b\b\b\b\b\b\b\b\b\b\b\b\b\b\b\b\b\b\b\b\b\b\b\b\b\b\b\b\b\b\b\b\b\b\b\b\b\b\b\b\b\b\b\b\b\b\b\b\b\b\b\b\b\b\b\b\b\b\b\b\b\b\b\b\b\b\b\b\b\b\b\b\b\b\b\b\b\b\b\b\b\b\b\b\b\b\b\b\b\b\b\b\b\b\b\b\b\b\b\b\b\b\b\b\b\b\b\b\b\b\b\b\b\b\b\b\b\b\b\b\b\b\b\b\b\b\b\b\b\b\b\b\b\b\b\b\b\b\b\b\b\b\b\b\b\b\b\b\b\b\b\b\b\b\b\b\b\b\b\b\b\b\b\b\b\b\b\b\b\b\b\b\b\b\b\b\b\b\b\b\b\b\b\b\b\b\b\b\b\b\b\b\b\b\b\b\b\b\b\b\b\b\b\b\b\b\b\b\b\b\b\b\b\b\b\b\b\b\b\b\b\b\b\b\b\b\b\b\b\b\b\b\b\b\b\b\b\b\b\b\b\b\b\b\b\b\b\b\b\b\b\b\b\b\b\b\b\b\b\b\b\b\b\b\b\b\b\b\b\b\b\b\b\b\b\b\b\b\b\b\b\b\b\b\b\b\b\b\b\b\b\b\b\b\b\b\b\b\b\b\b\b\b\b\b\b\b\b\b\b\b\b\b\b\b\b\b\b\b\b\b\b\b\b\b\b\b\b\b\b\b\b\b\b\b\b\b\b\b\b\b\b\b\b\b\b\b\b\b\b\b\b\b\b\b\b\b\b\b\b\b\b\b\b\b\b\b\b\b\b\b\b\b\b\b\b\b\b\b\b\b\b\b\b\b\b\b\b\b\b\b\b\b\b\b\b\b\b\b\b\b\b\b\b\b\b\b\b\b\b\b\b\b\b\b\b\b\b\b\b\b\b\b\b\b\b\b\b\b\b\b\b\b\b\b\b\b\b\b\b\b\b\b\b\b\b\b\b\b\b\b\b\b\b\b\b\b\b\b\b\b\b\b\b\b\b\b\b\b\b\b\b\b\b\b\b\b\b\b\b\b\b\b\b\b\b\b\b\b\b\b\b\b\b\b\b\b\b\b\b\b\b\b\b\b\b\b\b\b\b\b\b\b\b\b\b\b\b\b\b\b\b\b\b\b\b\b\b\b\b\b\b\b\b\b\b\b\b\b\b\b\b\b\b\b\b\b\b\b\b\b\b\b\b\b\b\b\b\b\b\b\b\b\b\b\b\b\b\b\b\b\b\b\b\b\b\b\b\b\b\b\b\b\b\b\b\b\b\b\b\b\b\b\b\b\b\b\b\b\b\b\b\b\b\b\b\b\b\b\b\b\b\b\b\b\b\b\b\b\b\b\b\b\b\b\b\b\b\b\b\b\b\b\b\b\b\b\b\b\b\b\b\b\b\b\b\b\b\b\b\b\b\b\b\b\b\b\b\b\b\b\b\b\b\b\b\b\b\b\b\b\b\b\b\b\b\b\b\b\b\b\b\b\b\b\b\b\b\b\b\b\b\b\b\b\b\b\b\b\b\b\b\b\b\b\b\b\b\b\b\b\b\b\b\b\b\b\b\b\b\b\b\b\b\b\b\b\b\b\b\b\b\b\b\b\b\b\b\b\b\b\b\b\b\b\b\b\b\b\b\b\b\b\b\b\b\b\b\b\b\b\b\b\b\b\b\b\b\b\b\b\b\b\b\b\b\b\b\b\b\b\b\b\b\b\b\b\b\b\b\b\b\b\b\b\b\b\b\b\b\b\b\b\b\b\b\b\b\b\b\b\b\b\b\b\b\b\b\b\b\b\b\b\b\b\b\b\b\b\b\b\b\b\b\b\b\b\b\b\b\b\b\b\b\b\b\b\b\b\b\b\b\b\b\b\b\b\b\b\b\b\b\b\b\b\b\b\b\b\b\b\b\b\b\b\b\b\b\b\b\b\b\b\b\b\b\b\b\b\b\b\b\b\b\b\b\b\b\b"
     ]
    }
   ],
   "source": [
    "for i in range(0,2500):\n",
    "    begin = ((i - 1) % 500 ) * ten_thousands\n",
    "    if begin == 4990000:\n",
    "        end = y_final.shape[0]\n",
    "    else :\n",
    "        end = (((i - 1) % 500) +1) * ten_thousands\n",
    "    run = i // 500 + 1\n",
    "    x_batch = x[begin:end]\n",
    "    y_batch = y_final[begin:end,:]\n",
    "    y_batch = y_batch.toarray()\n",
    "    \n",
    "#     model_ngrams.fit(x_batch.reshape((x_batch.shape[0],) + IMAGE_DIMENSIONS + (1,)), y_batch, nb_epoch=1, class_weight=labels_dict)\n",
    "    \n",
    "    history = p_model_ngrams.fit(x_batch.reshape((x_batch.shape[0],) + IMAGE_DIMENSIONS + (1,)), y_batch, nb_epoch=1, class_weight=labels_dict)\n",
    "        \n",
    "    now = datetime.datetime.now().isoformat().split('.')[0]\n",
    "    \n",
    "    if i and not i % 10:\n",
    "        with open(\"state_ngrams\", 'a+') as f:\n",
    "            f.write(\"run={} epoch={} loss={} now={} from={} to={}\\n\".format(run, (i - 1) % 500, history.history['loss'][0], now, begin, end))\n",
    "    \n",
    "    if i and not i % 100:\n",
    "        p_model_ngrams.save('p_model_ngrams_{}.h5'.format(i))"
   ]
  },
  {
   "cell_type": "code",
   "execution_count": 43,
   "metadata": {
    "collapsed": true
   },
   "outputs": [],
   "source": [
    "p_model_ngrams.save('p_model_ngrams_final.h5')"
   ]
  },
  {
   "cell_type": "code",
   "execution_count": 87,
   "metadata": {
    "collapsed": true
   },
   "outputs": [],
   "source": [
    "model_ngrams.save(\"n_grams_model_final.h5\")"
   ]
  },
  {
   "cell_type": "markdown",
   "metadata": {},
   "source": [
    "### Predictions"
   ]
  },
  {
   "cell_type": "code",
   "execution_count": 50,
   "metadata": {
    "collapsed": true
   },
   "outputs": [],
   "source": [
    "idxs = np.random.randint(0,x.shape[0],32)\n",
    "x_test = x[idxs]\n",
    "y_test = y_final[idxs].toarray()"
   ]
  },
  {
   "cell_type": "code",
   "execution_count": 62,
   "metadata": {
    "collapsed": false
   },
   "outputs": [],
   "source": [
    "predictions = p_model_ngrams.predict(x_test.reshape((x_test.shape[0],) + IMAGE_DIMENSIONS + (1,)))"
   ]
  },
  {
   "cell_type": "code",
   "execution_count": 91,
   "metadata": {
    "collapsed": false
   },
   "outputs": [
    {
     "ename": "TypeError",
     "evalue": "output must be an array",
     "output_type": "error",
     "traceback": [
      "\u001b[0;31m---------------------------------------------------------------------------\u001b[0m",
      "\u001b[0;31mTypeError\u001b[0m                                 Traceback (most recent call last)",
      "\u001b[0;32m<ipython-input-91-8b53c4fea0a3>\u001b[0m in \u001b[0;36m<module>\u001b[0;34m()\u001b[0m\n\u001b[0;32m----> 1\u001b[0;31m \u001b[0mpredictions_top_10\u001b[0m \u001b[0;34m=\u001b[0m \u001b[0mpredictions\u001b[0m\u001b[0;34m.\u001b[0m\u001b[0margmax\u001b[0m\u001b[0;34m(\u001b[0m\u001b[0maxis\u001b[0m\u001b[0;34m=\u001b[0m\u001b[0;36m0\u001b[0m\u001b[0;34m,\u001b[0m \u001b[0mout\u001b[0m\u001b[0;34m=\u001b[0m\u001b[0;36m10\u001b[0m\u001b[0;34m)\u001b[0m\u001b[0;34m\u001b[0m\u001b[0m\n\u001b[0m",
      "\u001b[0;31mTypeError\u001b[0m: output must be an array"
     ]
    }
   ],
   "source": [
    "predictions_top_10 = predictions.argmax(axis=0, out=10)"
   ]
  },
  {
   "cell_type": "code",
   "execution_count": 85,
   "metadata": {
    "collapsed": false
   },
   "outputs": [
    {
     "data": {
      "text/plain": [
       "['a',\n",
       " 'ar',\n",
       " 'art',\n",
       " 'arti',\n",
       " 'at',\n",
       " 'ate',\n",
       " 'ates',\n",
       " 'c',\n",
       " 'ci',\n",
       " 'cipa',\n",
       " 'cu',\n",
       " 'cul',\n",
       " 'cula',\n",
       " 'd',\n",
       " 'e',\n",
       " 'es',\n",
       " 'i',\n",
       " 'ic',\n",
       " 'icip',\n",
       " 'icu',\n",
       " 'icul',\n",
       " 'ipa',\n",
       " 'ipat',\n",
       " 'l',\n",
       " 'la',\n",
       " 'lat',\n",
       " 'late',\n",
       " 'lia',\n",
       " 'll',\n",
       " 'lla',\n",
       " 'o',\n",
       " 'p',\n",
       " 'pa',\n",
       " 'par',\n",
       " 'part',\n",
       " 'pat',\n",
       " 'pate',\n",
       " 'pi',\n",
       " 'r',\n",
       " 'ri',\n",
       " 'rs',\n",
       " 'rt',\n",
       " 'rti',\n",
       " 'rtic',\n",
       " 's',\n",
       " 't',\n",
       " 'te',\n",
       " 'tes',\n",
       " 'ti',\n",
       " 'tic',\n",
       " 'tici',\n",
       " 'ticu',\n",
       " 'tul',\n",
       " 'tula',\n",
       " 'u',\n",
       " 'ul',\n",
       " 'ula',\n",
       " 'ular',\n",
       " 'ulat']"
      ]
     },
     "execution_count": 85,
     "metadata": {},
     "output_type": "execute_result"
    }
   ],
   "source": [
    "predictions_ = predictions > 0.01\n",
    "ngram_transformer.ngram_from_matrix(predictions_[0])"
   ]
  },
  {
   "cell_type": "code",
   "execution_count": 86,
   "metadata": {
    "collapsed": false
   },
   "outputs": [
    {
     "data": {
      "text/plain": [
       "['ar',\n",
       " 'art',\n",
       " 'arti',\n",
       " 'at',\n",
       " 'ate',\n",
       " 'ates',\n",
       " 'c',\n",
       " 'cu',\n",
       " 'cul',\n",
       " 'cula',\n",
       " 'e',\n",
       " 'es',\n",
       " 'i',\n",
       " 'ic',\n",
       " 'icu',\n",
       " 'icul',\n",
       " 'l',\n",
       " 'la',\n",
       " 'lat',\n",
       " 'late',\n",
       " 'p',\n",
       " 'pa',\n",
       " 'par',\n",
       " 'part',\n",
       " 'r',\n",
       " 'rt',\n",
       " 'rti',\n",
       " 'rtic',\n",
       " 's',\n",
       " 'te',\n",
       " 'tes',\n",
       " 'ti',\n",
       " 'tic',\n",
       " 'ticu',\n",
       " 'u',\n",
       " 'ul',\n",
       " 'ula',\n",
       " 'ulat']"
      ]
     },
     "execution_count": 86,
     "metadata": {},
     "output_type": "execute_result"
    }
   ],
   "source": [
    "ngram_transformer.ngram_from_matrix(y_test[0])"
   ]
  },
  {
   "cell_type": "code",
   "execution_count": 88,
   "metadata": {
    "collapsed": true
   },
   "outputs": [],
   "source": [
    "# ### Y construction\n",
    "\n",
    "# import h5py\n",
    "# with h5py.File('/mnt/y.h5', 'r') as hf:\n",
    "#     y = hf['x'][:]\n",
    "\n",
    "# import pickle\n",
    "# with open('/datadrive/tt_new.pickle', 'rb') as f:\n",
    "#     tt = pickle.load(f)\n",
    "\n",
    "# with open('y_ngrams_m5_2.pickle', 'rb') as f:\n",
    "#     y2 = pickle.load(f)\n",
    "# with open('y_ngrams_m5.pickle', 'rb') as f:\n",
    "#     y1 = pickle.load(f)\n",
    "\n",
    "# y_ngrams = vstack([y1,y2])\n",
    "\n",
    "# with open('y_ngrams.pickle', 'wb') as f:\n",
    "#     pickle.dump(y_ngrams,f)\n",
    "\n",
    "# %%time \n",
    "# for i in range(1468,1469):\n",
    "#     t = tt.word_from_matrix(y[i])\n",
    "\n",
    "# count_wrong_labels = 0\n",
    "# blank_labels = []\n",
    "# for i in range(y.shape[0]): \n",
    "#     if tt.word_from_matrix(y[i]) == \"\" :\n",
    "#         blank_labels.append(i)\n",
    "\n",
    "# with open('y_idx_blanks.pickle', 'wb') as hf: \n",
    "#     pickle.dump(blank_labels, hf)\n",
    "\n"
   ]
  },
  {
   "cell_type": "code",
   "execution_count": null,
   "metadata": {
    "collapsed": true
   },
   "outputs": [],
   "source": []
  }
 ],
 "metadata": {
  "anaconda-cloud": {},
  "kernelspec": {
   "display_name": "Python 3",
   "language": "python",
   "name": "python3"
  },
  "language_info": {
   "codemirror_mode": {
    "name": "ipython",
    "version": 3
   },
   "file_extension": ".py",
   "mimetype": "text/x-python",
   "name": "python",
   "nbconvert_exporter": "python",
   "pygments_lexer": "ipython3",
   "version": "3.5.2"
  }
 },
 "nbformat": 4,
 "nbformat_minor": 1
}

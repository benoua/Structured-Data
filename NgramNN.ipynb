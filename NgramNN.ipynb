{
 "cells": [
  {
   "cell_type": "code",
   "execution_count": 1,
   "metadata": {
    "collapsed": false
   },
   "outputs": [
    {
     "name": "stderr",
     "output_type": "stream",
     "text": [
      "Using TensorFlow backend.\n"
     ]
    }
   ],
   "source": [
    "%matplotlib inline\n",
    "import matplotlib.pyplot as plt\n",
    "import numpy as np\n",
    "import os\n",
    "import os.path as op\n",
    "import shutil\n",
    "from zipfile import ZipFile\n",
    "from keras.preprocessing.image import array_to_img, img_to_array, load_img\n",
    "from utils import get_image_paths, word_from_image_path, preprocess_image, print_im, TextTransform, N_CHARS, SEQUENCE_LENGTH, IMAGE_DIMENSIONS\n",
    "from multi_gpu import make_parallel\n",
    "\n",
    "%load_ext autoreload\n",
    "%autoreload 2"
   ]
  },
  {
   "cell_type": "markdown",
   "metadata": {
    "collapsed": false
   },
   "source": [
    "#### Building N-grams Neural Network"
   ]
  },
  {
   "cell_type": "code",
   "execution_count": 24,
   "metadata": {
    "collapsed": false
   },
   "outputs": [],
   "source": [
    "from keras.models import Sequential, Model, load_model\n",
    "from keras.layers import Conv2D, MaxPooling2D, Dropout, Dense, Reshape, Activation\n",
    "from keras.layers import Flatten\n",
    "\n",
    "## Decapitation of previous trained CNN\n",
    "cnn = load_model('model_random_weights.keras')\n",
    "input = cnn.layers[0].input\n",
    "output = cnn.layers[-4].output\n",
    "base_ngrams = Model(input=input, output=output)\n",
    "\n",
    "\n",
    "ngrams = Sequential()\n",
    "ngrams.add(base_ngrams)\n",
    "ngrams.add(Dense(10000, activation='sigmoid', name= \"10kdense\")) \n",
    "\n",
    "ngrams.compile(optimizer='adam', loss='mse')"
   ]
  },
  {
   "cell_type": "code",
   "execution_count": 25,
   "metadata": {
    "collapsed": false
   },
   "outputs": [],
   "source": [
    "## Parellelize model \n",
    "p_model_ngrams = make_parallel(ngrams, 4)\n",
    "p_model_ngrams.compile(optimizer='adam', loss='mse')"
   ]
  },
  {
   "cell_type": "markdown",
   "metadata": {},
   "source": [
    "### Loading Images"
   ]
  },
  {
   "cell_type": "code",
   "execution_count": 11,
   "metadata": {
    "collapsed": false
   },
   "outputs": [],
   "source": [
    "from tqdm import tqdm, tqdm_notebook\n",
    "base_dir = '/mnt/mjsynth/mnt/ramdisk/max/90kDICT32px/'\n",
    "images_paths = get_image_paths(base_dir)\n",
    "#%%time\n",
    "ims = []\n",
    "errors_1, errors_2 = [], []\n",
    "for i, im in enumerate(images_paths[:12]):\n",
    "    try:\n",
    "        ims.append(preprocess_image(img_to_array(load_img(im, grayscale=True))))\n",
    "    except OSError:\n",
    "        errors_1.append(i)"
   ]
  },
  {
   "cell_type": "code",
   "execution_count": 12,
   "metadata": {
    "collapsed": false
   },
   "outputs": [
    {
     "data": {
      "text/plain": [
       "(12, 32, 100, 1)"
      ]
     },
     "execution_count": 12,
     "metadata": {},
     "output_type": "execute_result"
    }
   ],
   "source": [
    "batch = np.stack(ims).reshape(12, 32, 100, 1)\n",
    "batch.shape"
   ]
  },
  {
   "cell_type": "code",
   "execution_count": 13,
   "metadata": {
    "collapsed": false
   },
   "outputs": [],
   "source": [
    "from utils import NgramTransform"
   ]
  },
  {
   "cell_type": "code",
   "execution_count": 14,
   "metadata": {
    "collapsed": false
   },
   "outputs": [],
   "source": [
    "ngramtr = NgramTransform()"
   ]
  },
  {
   "cell_type": "code",
   "execution_count": 36,
   "metadata": {
    "collapsed": false
   },
   "outputs": [],
   "source": [
    "batch_y = ngramtr.make_batch_labels(images_paths[:12], False)\n",
    "batch_y = batch_y.reshape(batch_y.shape[0], batch_y.shape[2])"
   ]
  },
  {
   "cell_type": "code",
   "execution_count": 54,
   "metadata": {
    "collapsed": false
   },
   "outputs": [
    {
     "name": "stdout",
     "output_type": "stream",
     "text": [
      "Epoch 1/30\n",
      "12/12 [==============================] - 1s - loss: 0.0026\n",
      "Epoch 2/30\n",
      "12/12 [==============================] - 0s - loss: 0.0026\n",
      "Epoch 3/30\n",
      "12/12 [==============================] - 0s - loss: 0.0027\n",
      "Epoch 4/30\n",
      "12/12 [==============================] - 0s - loss: 0.0026\n",
      "Epoch 5/30\n",
      "12/12 [==============================] - 0s - loss: 0.0026\n",
      "Epoch 6/30\n",
      "12/12 [==============================] - 1s - loss: 0.0027\n",
      "Epoch 7/30\n",
      "12/12 [==============================] - 0s - loss: 0.0027\n",
      "Epoch 8/30\n",
      "12/12 [==============================] - 0s - loss: 0.0026\n",
      "Epoch 9/30\n",
      "12/12 [==============================] - 0s - loss: 0.0027\n",
      "Epoch 10/30\n",
      "12/12 [==============================] - 0s - loss: 0.0026\n",
      "Epoch 11/30\n",
      "12/12 [==============================] - 1s - loss: 0.0027\n",
      "Epoch 12/30\n",
      "12/12 [==============================] - 0s - loss: 0.0027\n",
      "Epoch 13/30\n",
      "12/12 [==============================] - 0s - loss: 0.0026\n",
      "Epoch 14/30\n",
      "12/12 [==============================] - 0s - loss: 0.0026\n",
      "Epoch 15/30\n",
      "12/12 [==============================] - 0s - loss: 0.0026\n",
      "Epoch 16/30\n",
      "12/12 [==============================] - 1s - loss: 0.0027\n",
      "Epoch 17/30\n",
      "12/12 [==============================] - 0s - loss: 0.0027\n",
      "Epoch 18/30\n",
      "12/12 [==============================] - 0s - loss: 0.0026\n",
      "Epoch 19/30\n",
      "12/12 [==============================] - 0s - loss: 0.0026\n",
      "Epoch 20/30\n",
      "12/12 [==============================] - 0s - loss: 0.0027\n",
      "Epoch 21/30\n",
      "12/12 [==============================] - 1s - loss: 0.0027\n",
      "Epoch 22/30\n",
      "12/12 [==============================] - 0s - loss: 0.0026\n",
      "Epoch 23/30\n",
      "12/12 [==============================] - 0s - loss: 0.0027\n",
      "Epoch 24/30\n",
      "12/12 [==============================] - 0s - loss: 0.0026\n",
      "Epoch 25/30\n",
      "12/12 [==============================] - 0s - loss: 0.0026\n",
      "Epoch 26/30\n",
      "12/12 [==============================] - 1s - loss: 0.0026\n",
      "Epoch 27/30\n",
      "12/12 [==============================] - 0s - loss: 0.0026\n",
      "Epoch 28/30\n",
      "12/12 [==============================] - 0s - loss: 0.0027\n",
      "Epoch 29/30\n",
      "12/12 [==============================] - 0s - loss: 0.0026\n",
      "Epoch 30/30\n",
      "12/12 [==============================] - 0s - loss: 0.0026\n"
     ]
    },
    {
     "data": {
      "text/plain": [
       "<keras.callbacks.History at 0x7f6036684f98>"
      ]
     },
     "execution_count": 54,
     "metadata": {},
     "output_type": "execute_result"
    }
   ],
   "source": [
    "ngrams.fit(batch, batch_y, nb_epoch=30)"
   ]
  },
  {
   "cell_type": "code",
   "execution_count": 55,
   "metadata": {
    "collapsed": false
   },
   "outputs": [],
   "source": [
    "predictions = ngrams.predict(batch)"
   ]
  },
  {
   "cell_type": "code",
   "execution_count": 56,
   "metadata": {
    "collapsed": false
   },
   "outputs": [
    {
     "name": "stdout",
     "output_type": "stream",
     "text": [
      "buckram \t\t ['a', 'd', 'e', 'i', 'in', 'ing', 'n', 'ng', 'o', 'r', 's']\n",
      "uncleanlier \t\t ['a', 'd', 'e', 'i', 'in', 'ing', 'n', 'ng', 'o', 'r', 's']\n",
      "choosing \t\t ['a', 'd', 'e', 'i', 'in', 'ing', 'n', 'ng', 'o', 'r', 's']\n",
      "soy \t\t ['a', 'd', 'e', 'i', 'in', 'ing', 'n', 'ng', 'o', 'r', 's']\n",
      "urinating \t\t ['a', 'd', 'e', 'i', 'in', 'ing', 'n', 'ng', 'o', 'r', 's']\n",
      "foreordaining \t\t ['a', 'd', 'e', 'i', 'in', 'ing', 'n', 'ng', 'o', 'r', 's']\n",
      "hmong \t\t ['a', 'd', 'e', 'i', 'in', 'ing', 'n', 'ng', 'o', 'r', 's']\n",
      "undercoat \t\t ['a', 'd', 'e', 'i', 'in', 'ing', 'n', 'ng', 'o', 'r', 's']\n",
      "rewedding \t\t ['a', 'd', 'e', 'i', 'in', 'ing', 'n', 'ng', 'o', 'r', 's']\n",
      "irrelevances \t\t ['a', 'd', 'e', 'i', 'in', 'ing', 'n', 'ng', 'o', 'r', 's']\n",
      "nasalized \t\t ['a', 'd', 'e', 'i', 'in', 'ing', 'n', 'ng', 'o', 'r', 's']\n",
      "sup \t\t ['a', 'd', 'e', 'i', 'in', 'ing', 'n', 'ng', 'o', 'r', 's']\n"
     ]
    }
   ],
   "source": [
    "for i in range(12):\n",
    "#     print(ngramtr.ngram_from_matrix(batch_y[i]))\n",
    "    print(\"{} \\t\\t {}\".format(word_from_image_path(images_paths[:12][i]).lower(), ngramtr.ngram_from_matrix(predictions[i])) )"
   ]
  },
  {
   "cell_type": "code",
   "execution_count": 51,
   "metadata": {
    "collapsed": false
   },
   "outputs": [
    {
     "data": {
      "text/plain": [
       "array([[0, 0, 0, ..., 0, 0, 0],\n",
       "       [0, 0, 0, ..., 0, 0, 0],\n",
       "       [0, 0, 0, ..., 0, 0, 0],\n",
       "       ..., \n",
       "       [0, 0, 0, ..., 0, 0, 0],\n",
       "       [0, 0, 0, ..., 0, 0, 0],\n",
       "       [0, 0, 0, ..., 0, 0, 0]])"
      ]
     },
     "execution_count": 51,
     "metadata": {},
     "output_type": "execute_result"
    }
   ],
   "source": []
  },
  {
   "cell_type": "code",
   "execution_count": null,
   "metadata": {
    "collapsed": true
   },
   "outputs": [],
   "source": []
  }
 ],
 "metadata": {
  "kernelspec": {
   "display_name": "Python 3",
   "language": "python",
   "name": "python3"
  },
  "language_info": {
   "codemirror_mode": {
    "name": "ipython",
    "version": 3
   },
   "file_extension": ".py",
   "mimetype": "text/x-python",
   "name": "python",
   "nbconvert_exporter": "python",
   "pygments_lexer": "ipython3",
   "version": "3.5.2"
  }
 },
 "nbformat": 4,
 "nbformat_minor": 2
}

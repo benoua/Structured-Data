{
 "cells": [
  {
   "cell_type": "code",
   "execution_count": 1,
   "metadata": {
    "collapsed": false
   },
   "outputs": [
    {
     "name": "stderr",
     "output_type": "stream",
     "text": [
      "Using TensorFlow backend.\n"
     ]
    }
   ],
   "source": [
    "%matplotlib inline\n",
    "import matplotlib.pyplot as plt\n",
    "import numpy as np\n",
    "import os\n",
    "import os.path as op\n",
    "import shutil\n",
    "from zipfile import ZipFile\n",
    "from keras.preprocessing.image import array_to_img, img_to_array, load_img\n",
    "from utils import get_image_paths, word_from_image_path, preprocess_image, print_im, TextTransform, N_CHARS, SEQUENCE_LENGTH, IMAGE_DIMENSIONS\n",
    "from multi_gpu import make_parallel\n",
    "\n",
    "%load_ext autoreload\n",
    "%autoreload 2"
   ]
  },
  {
   "cell_type": "markdown",
   "metadata": {
    "collapsed": false
   },
   "source": [
    "#### Building N-grams Neural Network"
   ]
  },
  {
   "cell_type": "code",
   "execution_count": 153,
   "metadata": {
    "collapsed": false
   },
   "outputs": [],
   "source": [
    "from keras.models import Sequential, Model, load_model\n",
    "from keras.layers import Conv2D, MaxPooling2D, Dropout, Dense, Reshape, Activation, GlobalAveragePooling2D\n",
    "from keras.layers import Flatten\n",
    "\n",
    "## Decapitation of previous trained CNN\n",
    "# cnn = load_model('model_random_weights.keras')\n",
    "# input = cnn.layers[0].input\n",
    "# output = cnn.layers[-4].output\n",
    "# base_ngrams = Model(input=input, output=output)\n",
    "input_shape = (None, 32, 100, 1,)\n",
    "\n",
    "ngrams = Sequential()\n",
    "# ngrams.add(base_ngrams)\n",
    "ngrams.add(Conv2D(64, 3, 3, batch_input_shape=input_shape, border_mode='same', activation='relu'))\n",
    "ngrams.add(MaxPooling2D())\n",
    "ngrams.add(GlobalAveragePooling2D())\n",
    "ngrams.add(Dense(10000, input_shape=input_shape, activation='sigmoid', name= \"10kdense\")) \n",
    "\n",
    "\n",
    "ngrams.compile(optimizer='adam', loss='categorical_crossentropy')"
   ]
  },
  {
   "cell_type": "code",
   "execution_count": 154,
   "metadata": {
    "collapsed": false
   },
   "outputs": [],
   "source": [
    "# ## Parellelize model \n",
    "# p_model_ngrams = make_parallel(ngrams, 4)\n",
    "# p_model_ngrams.compile(optimizer='adam', loss='mse')"
   ]
  },
  {
   "cell_type": "markdown",
   "metadata": {},
   "source": [
    "### Loading Images"
   ]
  },
  {
   "cell_type": "code",
   "execution_count": 155,
   "metadata": {
    "collapsed": false
   },
   "outputs": [],
   "source": [
    "from tqdm import tqdm, tqdm_notebook\n",
    "base_dir = '/mnt/c/Users/benoua/Google Drive/Master X - Data Sciences/2_Structured Data/Structured-Data/mjsynth'\n",
    "images_paths = get_image_paths(base_dir)\n",
    "#%%time\n",
    "ims = []\n",
    "errors_1, errors_2 = [], []\n",
    "for i, im in enumerate(images_paths[:12]):\n",
    "    try:\n",
    "        ims.append(preprocess_image(img_to_array(load_img(im, grayscale=True))))\n",
    "    except OSError:\n",
    "        errors_1.append(i)"
   ]
  },
  {
   "cell_type": "code",
   "execution_count": 156,
   "metadata": {
    "collapsed": false
   },
   "outputs": [
    {
     "data": {
      "text/plain": [
       "(12, 32, 100, 1)"
      ]
     },
     "execution_count": 156,
     "metadata": {},
     "output_type": "execute_result"
    }
   ],
   "source": [
    "batch = np.stack(ims).reshape(12, 32, 100, 1)\n",
    "batch.shape"
   ]
  },
  {
   "cell_type": "code",
   "execution_count": 157,
   "metadata": {
    "collapsed": false
   },
   "outputs": [],
   "source": [
    "from utils import NgramTransform"
   ]
  },
  {
   "cell_type": "code",
   "execution_count": 158,
   "metadata": {
    "collapsed": false
   },
   "outputs": [],
   "source": [
    "ngramtr = NgramTransform()"
   ]
  },
  {
   "cell_type": "code",
   "execution_count": 159,
   "metadata": {
    "collapsed": false
   },
   "outputs": [],
   "source": [
    "batch_y = ngramtr.make_batch_labels(images_paths[:12], False)\n",
    "batch_y = batch_y.reshape(batch_y.shape[0], batch_y.shape[2]).astype(float)"
   ]
  },
  {
   "cell_type": "code",
   "execution_count": 160,
   "metadata": {
    "collapsed": false
   },
   "outputs": [
    {
     "name": "stdout",
     "output_type": "stream",
     "text": [
      "____________________________________________________________________________________________________\n",
      "Layer (type)                     Output Shape          Param #     Connected to                     \n",
      "====================================================================================================\n",
      "convolution2d_5 (Convolution2D)  (None, 32, 100, 64)   640         convolution2d_input_4[0][0]      \n",
      "____________________________________________________________________________________________________\n",
      "maxpooling2d_1 (MaxPooling2D)    (None, 16, 50, 64)    0           convolution2d_5[0][0]            \n",
      "____________________________________________________________________________________________________\n",
      "globalaveragepooling2d_8 (Global (None, 64)            0           maxpooling2d_1[0][0]             \n",
      "____________________________________________________________________________________________________\n",
      "10kdense (Dense)                 (None, 10000)         650000      globalaveragepooling2d_8[0][0]   \n",
      "====================================================================================================\n",
      "Total params: 650,640\n",
      "Trainable params: 650,640\n",
      "Non-trainable params: 0\n",
      "____________________________________________________________________________________________________\n"
     ]
    }
   ],
   "source": [
    "ngrams.summary()"
   ]
  },
  {
   "cell_type": "code",
   "execution_count": 163,
   "metadata": {
    "collapsed": false
   },
   "outputs": [
    {
     "name": "stdout",
     "output_type": "stream",
     "text": [
      "Epoch 1/10\n",
      "12/12 [==============================] - 0s - loss: 126.6781\n",
      "Epoch 2/10\n",
      "12/12 [==============================] - 0s - loss: 126.6367\n",
      "Epoch 3/10\n",
      "12/12 [==============================] - 0s - loss: 126.6542\n",
      "Epoch 4/10\n",
      "12/12 [==============================] - 0s - loss: 126.5998\n",
      "Epoch 5/10\n",
      "12/12 [==============================] - 0s - loss: 126.5830\n",
      "Epoch 6/10\n",
      "12/12 [==============================] - 0s - loss: 126.5601\n",
      "Epoch 7/10\n",
      "12/12 [==============================] - 0s - loss: 126.5304\n",
      "Epoch 8/10\n",
      "12/12 [==============================] - 0s - loss: 126.5007\n",
      "Epoch 9/10\n",
      "12/12 [==============================] - 0s - loss: 126.4600\n",
      "Epoch 10/10\n",
      "12/12 [==============================] - 0s - loss: 126.3826\n"
     ]
    },
    {
     "data": {
      "text/plain": [
       "<keras.callbacks.History at 0x7f6eb36c2da0>"
      ]
     },
     "execution_count": 163,
     "metadata": {},
     "output_type": "execute_result"
    }
   ],
   "source": [
    "ngrams.fit(batch, batch_y, nb_epoch=10)"
   ]
  },
  {
   "cell_type": "code",
   "execution_count": 171,
   "metadata": {
    "collapsed": false
   },
   "outputs": [],
   "source": [
    "predictions = ngrams.predict(batch)"
   ]
  },
  {
   "cell_type": "code",
   "execution_count": 172,
   "metadata": {
    "collapsed": false
   },
   "outputs": [],
   "source": [
    "predictions = predictions > 0.9"
   ]
  },
  {
   "cell_type": "code",
   "execution_count": 173,
   "metadata": {
    "collapsed": false
   },
   "outputs": [
    {
     "name": "stdout",
     "output_type": "stream",
     "text": [
      "fourteens \t\t ['a', 'ac', 'aci', 'acid', 'age', 'an', 'ang', 'ant', 'ante', 'at', 'ate', 'b', 'ba', 'ban', 'bang', 'c', 'ci', 'cid', 'ck', 'cko', 'd', 'di', 'dif', 'difi', 'du', 'dum', 'dumb', 'e', 'eb', 'eba', 'eck', 'ed', 'ee', 'een', 'eens', 'el', 'eli', 'elig', 'en', 'equi', 'es', 'f', 'fi', 'fie', 'fied', 'fou', 'four', 'g', 'ge', 'gh', 'ght', 'ghts', 'gs', 'h', 'he', 'heb', 'ht', 'hts', 'i', 'id', 'idi', 'idif', 'ie', 'ied', 'if', 'ifi', 'ifie', 'ig', 'igh', 'ight', 'il', 'ill', 'illa', 'in', 'ing', 'ipu', 'is', 'isit', 'ist', 'ists', 'it', 'ite', 'iti', 'itin', 'l', 'la', 'lag', 'late', 'li', 'lig', 'ligh', 'llag', 'lt', 'ltr', 'm', 'mb', 'n', 'na', 'nan', 'nant', 'ng', 'ngs', 'ni', 'ning', 'ns', 'nt', 'nte', 'ntes', 'o', 'on', 'oni', 'onin', 'ou', 'our', 'ourt', 'p', 'pi', 'pil', 'pu', 'pul', 'qu', 'qui', 'r', 're', 'rec', 'rel', 'reli', 'req', 'requ', 'rte', 'ru', 'rui', 'ruis', 's', 'sh', 'she', 'si', 'st', 'sti', 'su', 'sui', 'suit', 't', 'te', 'tee', 'tes', 'ti', 'tin', 'ting', 'tip', 'tr', 'ts', 'u', 'ui', 'uis', 'uisi', 'uist', 'uit', 'uiti', 'ula', 'um', 'umb', 'ur', 'urte']\n",
      "reckonings \t\t ['a', 'ac', 'aci', 'acid', 'ag', 'age', 'al', 'an', 'ang', 'ant', 'ante', 'at', 'ate', 'ates', 'b', 'ba', 'ban', 'bang', 'c', 'ci', 'cid', 'ck', 'cko', 'd', 'di', 'dif', 'difi', 'du', 'dum', 'dumb', 'e', 'eb', 'eba', 'eck', 'ed', 'ee', 'een', 'eens', 'el', 'eli', 'elig', 'en', 'ens', 'equi', 'es', 'f', 'fi', 'fie', 'fied', 'fo', 'fou', 'four', 'g', 'ge', 'gh', 'ght', 'ghts', 'gs', 'h', 'he', 'heb', 'ht', 'hts', 'i', 'id', 'idi', 'idif', 'ie', 'ied', 'if', 'ifi', 'ifie', 'ig', 'igh', 'ight', 'il', 'ill', 'illa', 'in', 'ing', 'ipu', 'is', 'isi', 'isit', 'ist', 'ists', 'it', 'ite', 'iti', 'itin', 'l', 'la', 'lag', 'lage', 'lat', 'late', 'li', 'lig', 'ligh', 'll', 'llag', 'lt', 'ltr', 'm', 'mb', 'n', 'na', 'nan', 'nant', 'ng', 'ngs', 'ni', 'ning', 'ns', 'nt', 'nte', 'ntes', 'o', 'on', 'oni', 'onin', 'ou', 'our', 'ourt', 'p', 'pi', 'pil', 'pill', 'pu', 'pul', 'q', 'qu', 'qui', 'quis', 'r', 're', 'rec', 'rel', 'reli', 'req', 'requ', 'rte', 'ru', 'rui', 'ruis', 's', 'sh', 'she', 'si', 'sit', 'site', 'st', 'sti', 'stip', 'su', 'sui', 'suit', 't', 'te', 'tee', 'tes', 'ti', 'tin', 'ting', 'tip', 'tr', 'ts', 'u', 'ui', 'uis', 'uisi', 'uist', 'uit', 'uiti', 'ul', 'ula', 'ulat', 'um', 'umb', 'ur', 'urt', 'urte']\n",
      "requisite \t\t ['a', 'ac', 'aci', 'acid', 'ag', 'age', 'al', 'an', 'ang', 'ant', 'ante', 'at', 'ate', 'b', 'ba', 'ban', 'bang', 'c', 'ci', 'cid', 'ck', 'cko', 'd', 'di', 'dif', 'difi', 'du', 'dum', 'dumb', 'e', 'eb', 'eba', 'eck', 'ed', 'ee', 'een', 'eens', 'el', 'eli', 'elig', 'en', 'ens', 'equi', 'es', 'f', 'fi', 'fie', 'fied', 'fo', 'fou', 'four', 'g', 'ge', 'gh', 'ght', 'ghts', 'gs', 'h', 'he', 'heb', 'ht', 'hts', 'i', 'id', 'idi', 'idif', 'ie', 'ied', 'if', 'ifi', 'ifie', 'ig', 'igh', 'ight', 'il', 'ill', 'illa', 'in', 'ing', 'ipu', 'is', 'isit', 'ist', 'ists', 'it', 'ite', 'iti', 'itin', 'l', 'la', 'lag', 'late', 'li', 'lig', 'ligh', 'll', 'llag', 'lt', 'ltr', 'm', 'mb', 'n', 'na', 'nan', 'nant', 'ng', 'ngs', 'ni', 'ning', 'ns', 'nt', 'nte', 'ntes', 'o', 'on', 'oni', 'onin', 'ou', 'our', 'ourt', 'p', 'pi', 'pil', 'pill', 'pu', 'pul', 'qu', 'qui', 'r', 're', 'rec', 'rel', 'reli', 'req', 'requ', 'rte', 'ru', 'rui', 'ruis', 's', 'sh', 'she', 'si', 'st', 'sti', 'su', 'sui', 'suit', 't', 'te', 'tee', 'tes', 'ti', 'tin', 'ting', 'tip', 'tr', 'ts', 'u', 'ui', 'uis', 'uisi', 'uist', 'uit', 'uiti', 'ula', 'um', 'umb', 'ur', 'urte']\n",
      "relights \t\t ['a', 'ac', 'aci', 'acid', 'age', 'an', 'ang', 'ant', 'ante', 'at', 'ate', 'b', 'ba', 'ban', 'bang', 'c', 'ci', 'cid', 'ck', 'cko', 'd', 'di', 'dif', 'difi', 'du', 'dum', 'dumb', 'e', 'eb', 'eba', 'eck', 'ed', 'ee', 'een', 'eens', 'el', 'eli', 'elig', 'en', 'equi', 'es', 'f', 'fi', 'fie', 'fied', 'fou', 'four', 'g', 'ge', 'gh', 'ght', 'ghts', 'gs', 'h', 'he', 'heb', 'ht', 'hts', 'i', 'id', 'idi', 'idif', 'ie', 'ied', 'if', 'ifi', 'ifie', 'ig', 'igh', 'ight', 'il', 'ill', 'illa', 'in', 'ing', 'ipu', 'isit', 'ist', 'ists', 'it', 'ite', 'iti', 'itin', 'l', 'la', 'lag', 'late', 'li', 'lig', 'ligh', 'lt', 'ltr', 'm', 'mb', 'n', 'na', 'nan', 'nant', 'ng', 'ngs', 'ni', 'ning', 'ns', 'nt', 'nte', 'ntes', 'o', 'on', 'oni', 'onin', 'ou', 'our', 'ourt', 'p', 'pi', 'pil', 'pu', 'pul', 'qu', 'qui', 'r', 're', 'rec', 'rel', 'reli', 'req', 'requ', 'rte', 'ru', 'rui', 'ruis', 's', 'sh', 'she', 'si', 'sti', 'su', 'sui', 'suit', 't', 'te', 'tee', 'tes', 'ti', 'tin', 'ting', 'tip', 'tr', 'ts', 'u', 'ui', 'uis', 'uisi', 'uist', 'uit', 'uiti', 'ula', 'um', 'umb', 'ur', 'urte']\n",
      "stipulates \t\t ['a', 'ac', 'aci', 'acid', 'age', 'al', 'an', 'ang', 'ant', 'ante', 'at', 'ate', 'b', 'ba', 'ban', 'bang', 'c', 'ci', 'cid', 'ck', 'cko', 'd', 'di', 'dif', 'difi', 'du', 'dum', 'dumb', 'e', 'eb', 'eba', 'eck', 'ed', 'ee', 'een', 'eens', 'el', 'eli', 'elig', 'en', 'ens', 'equi', 'es', 'f', 'fi', 'fie', 'fied', 'fou', 'four', 'g', 'ge', 'gh', 'ght', 'ghts', 'gs', 'h', 'he', 'heb', 'ht', 'hts', 'i', 'id', 'idi', 'idif', 'ie', 'ied', 'if', 'ifi', 'ifie', 'ig', 'igh', 'ight', 'il', 'ill', 'illa', 'in', 'ing', 'ipu', 'is', 'isit', 'ist', 'ists', 'it', 'ite', 'iti', 'itin', 'l', 'la', 'lag', 'late', 'li', 'lig', 'ligh', 'llag', 'lt', 'ltr', 'm', 'mb', 'n', 'na', 'nan', 'nant', 'ng', 'ngs', 'ni', 'ning', 'ns', 'nt', 'nte', 'ntes', 'o', 'on', 'oni', 'onin', 'ou', 'our', 'ourt', 'p', 'pi', 'pil', 'pu', 'pul', 'qu', 'qui', 'r', 're', 'rec', 'rel', 'reli', 'req', 'requ', 'rte', 'ru', 'rui', 'ruis', 's', 'sh', 'she', 'si', 'st', 'sti', 'su', 'sui', 'suit', 't', 'te', 'tee', 'tes', 'ti', 'tin', 'ting', 'tip', 'tr', 'ts', 'u', 'ui', 'uis', 'uisi', 'uist', 'uit', 'uiti', 'ula', 'um', 'umb', 'ur', 'urte']\n",
      "acidified \t\t ['a', 'ac', 'aci', 'acid', 'age', 'an', 'ang', 'ant', 'ante', 'at', 'ate', 'b', 'ba', 'ban', 'bang', 'c', 'ci', 'cid', 'ck', 'cko', 'd', 'di', 'dif', 'difi', 'du', 'dum', 'dumb', 'e', 'eb', 'eba', 'eck', 'ed', 'ee', 'een', 'eens', 'el', 'eli', 'elig', 'en', 'equi', 'es', 'f', 'fi', 'fie', 'fied', 'fou', 'four', 'g', 'ge', 'gh', 'ght', 'ghts', 'gs', 'h', 'he', 'heb', 'ht', 'hts', 'i', 'id', 'idi', 'idif', 'ie', 'ied', 'if', 'ifi', 'ifie', 'ig', 'igh', 'ight', 'il', 'ill', 'illa', 'in', 'ing', 'ipu', 'isit', 'ist', 'ists', 'it', 'ite', 'iti', 'itin', 'l', 'la', 'lag', 'late', 'li', 'lig', 'ligh', 'lt', 'ltr', 'm', 'mb', 'n', 'na', 'nan', 'nant', 'ng', 'ngs', 'ni', 'ning', 'ns', 'nt', 'nte', 'ntes', 'o', 'on', 'oni', 'onin', 'ou', 'our', 'ourt', 'p', 'pi', 'pil', 'pu', 'pul', 'qu', 'qui', 'r', 're', 'rec', 'rel', 'reli', 'req', 'requ', 'rte', 'ru', 'rui', 'ruis', 's', 'sh', 'she', 'si', 'sti', 'su', 'sui', 'suit', 't', 'te', 'tee', 'tes', 'ti', 'tin', 'ting', 'tip', 'tr', 'ts', 'u', 'ui', 'uis', 'uisi', 'uist', 'uit', 'uiti', 'ula', 'um', 'umb', 'ur', 'urte']\n",
      "dumb \t\t ['a', 'ac', 'aci', 'acid', 'age', 'an', 'ang', 'ant', 'ante', 'at', 'ate', 'b', 'ba', 'ban', 'bang', 'c', 'ci', 'cid', 'ck', 'cko', 'd', 'di', 'dif', 'difi', 'du', 'dum', 'dumb', 'e', 'eb', 'eba', 'eck', 'ed', 'ee', 'een', 'eens', 'el', 'eli', 'elig', 'en', 'equi', 'es', 'f', 'fi', 'fie', 'fied', 'fou', 'four', 'g', 'ge', 'gh', 'ght', 'ghts', 'gs', 'h', 'he', 'heb', 'ht', 'hts', 'i', 'id', 'idi', 'idif', 'ie', 'ied', 'if', 'ifi', 'ifie', 'ig', 'igh', 'ight', 'il', 'ill', 'illa', 'in', 'ing', 'ipu', 'isit', 'ist', 'ists', 'it', 'ite', 'iti', 'itin', 'l', 'la', 'lag', 'late', 'li', 'lig', 'ligh', 'lt', 'ltr', 'm', 'mb', 'n', 'na', 'nan', 'nant', 'ng', 'ngs', 'ni', 'ning', 'ns', 'nt', 'nte', 'ntes', 'o', 'on', 'oni', 'onin', 'ou', 'our', 'ourt', 'p', 'pi', 'pil', 'pu', 'pul', 'qu', 'qui', 'r', 're', 'rec', 'rel', 'reli', 'req', 'requ', 'rte', 'ru', 'rui', 'ruis', 's', 'sh', 'she', 'si', 'sti', 'su', 'sui', 'suit', 't', 'te', 'tee', 'tes', 'ti', 'tin', 'ting', 'tip', 'tr', 'ts', 'u', 'ui', 'uis', 'uisi', 'uist', 'uit', 'uiti', 'ula', 'um', 'umb', 'ur', 'urte']\n",
      "suiting \t\t ['a', 'ac', 'aci', 'acid', 'age', 'an', 'ang', 'ant', 'ante', 'at', 'ate', 'b', 'ba', 'ban', 'bang', 'c', 'ci', 'cid', 'ck', 'cko', 'd', 'di', 'dif', 'difi', 'du', 'dum', 'dumb', 'e', 'eb', 'eck', 'ed', 'ee', 'een', 'eens', 'el', 'eli', 'elig', 'en', 'equi', 'es', 'f', 'fi', 'fie', 'fied', 'fou', 'four', 'g', 'ge', 'gh', 'ght', 'ghts', 'gs', 'h', 'he', 'heb', 'ht', 'hts', 'i', 'id', 'idi', 'idif', 'ie', 'ied', 'if', 'ifi', 'ifie', 'ig', 'igh', 'ight', 'il', 'ill', 'illa', 'in', 'ing', 'ipu', 'isit', 'ist', 'ists', 'it', 'ite', 'iti', 'itin', 'l', 'la', 'lag', 'late', 'li', 'lig', 'ligh', 'lt', 'ltr', 'm', 'mb', 'n', 'na', 'nan', 'nant', 'ng', 'ngs', 'ni', 'ning', 'ns', 'nt', 'nte', 'ntes', 'o', 'on', 'oni', 'onin', 'ou', 'our', 'ourt', 'p', 'pi', 'pil', 'pu', 'pul', 'qu', 'r', 're', 'rec', 'rel', 'reli', 'req', 'requ', 'rte', 'ru', 'rui', 'ruis', 's', 'sh', 'she', 'si', 'sti', 'su', 'sui', 'suit', 't', 'te', 'tee', 'tes', 'ti', 'tin', 'ting', 'tip', 'tr', 'ts', 'u', 'ui', 'uis', 'uisi', 'uist', 'uit', 'uiti', 'ula', 'um', 'umb', 'ur', 'urte']\n",
      "altruists \t\t ['a', 'ac', 'aci', 'acid', 'age', 'an', 'ang', 'ant', 'ante', 'at', 'ate', 'b', 'ba', 'ban', 'bang', 'c', 'ci', 'cid', 'ck', 'cko', 'd', 'di', 'dif', 'difi', 'du', 'dum', 'dumb', 'e', 'eb', 'eba', 'eck', 'ed', 'ee', 'een', 'eens', 'el', 'eli', 'elig', 'en', 'equi', 'es', 'f', 'fi', 'fie', 'fied', 'fou', 'four', 'g', 'ge', 'gh', 'ght', 'ghts', 'gs', 'h', 'he', 'heb', 'ht', 'hts', 'i', 'id', 'idi', 'idif', 'ie', 'ied', 'if', 'ifi', 'ifie', 'ig', 'igh', 'ight', 'il', 'ill', 'illa', 'in', 'ing', 'ipu', 'isit', 'ist', 'ists', 'it', 'ite', 'iti', 'itin', 'l', 'la', 'lag', 'late', 'li', 'lig', 'ligh', 'lt', 'ltr', 'm', 'mb', 'n', 'na', 'nan', 'nant', 'ng', 'ngs', 'ni', 'ning', 'ns', 'nt', 'nte', 'ntes', 'o', 'on', 'oni', 'onin', 'ou', 'our', 'ourt', 'p', 'pi', 'pil', 'pu', 'pul', 'qu', 'qui', 'r', 're', 'rec', 'rel', 'reli', 'req', 'requ', 'rte', 'ru', 'rui', 'ruis', 's', 'sh', 'she', 'si', 'st', 'sti', 'su', 'sui', 'suit', 't', 'te', 'tee', 'tes', 'ti', 'tin', 'ting', 'tip', 'tr', 'ts', 'u', 'ui', 'uis', 'uisi', 'uist', 'uit', 'uiti', 'ula', 'um', 'umb', 'ur', 'urte']\n",
      "pillage \t\t ['a', 'ac', 'aci', 'acid', 'age', 'an', 'ang', 'ant', 'ante', 'at', 'ate', 'b', 'ba', 'ban', 'bang', 'c', 'ci', 'cid', 'ck', 'cko', 'd', 'di', 'dif', 'difi', 'du', 'dum', 'dumb', 'e', 'eb', 'eba', 'eck', 'ed', 'ee', 'een', 'eens', 'el', 'eli', 'elig', 'en', 'equi', 'es', 'f', 'fi', 'fie', 'fied', 'fou', 'four', 'g', 'ge', 'gh', 'ght', 'ghts', 'gs', 'h', 'he', 'heb', 'ht', 'hts', 'i', 'id', 'idi', 'idif', 'ie', 'ied', 'if', 'ifi', 'ifie', 'ig', 'igh', 'ight', 'il', 'ill', 'illa', 'in', 'ing', 'ipu', 'is', 'isit', 'ist', 'ists', 'it', 'ite', 'iti', 'itin', 'l', 'la', 'lag', 'late', 'li', 'lig', 'ligh', 'llag', 'lt', 'ltr', 'm', 'mb', 'n', 'na', 'nan', 'nant', 'ng', 'ngs', 'ni', 'ning', 'ns', 'nt', 'nte', 'ntes', 'o', 'on', 'oni', 'onin', 'ou', 'our', 'ourt', 'p', 'pi', 'pil', 'pu', 'pul', 'qu', 'qui', 'r', 're', 'rec', 'rel', 'reli', 'req', 'requ', 'rte', 'ru', 'rui', 'ruis', 's', 'sh', 'she', 'si', 'st', 'sti', 'su', 'sui', 'suit', 't', 'te', 'tee', 'tes', 'ti', 'tin', 'ting', 'tip', 'tr', 'ts', 'u', 'ui', 'uis', 'uisi', 'uist', 'uit', 'uiti', 'ula', 'um', 'umb', 'ur', 'urte']\n",
      "shebang \t\t ['a', 'ac', 'aci', 'acid', 'age', 'an', 'ang', 'ant', 'ante', 'at', 'ate', 'b', 'ba', 'ban', 'bang', 'c', 'ci', 'cid', 'ck', 'cko', 'd', 'di', 'dif', 'difi', 'du', 'dum', 'dumb', 'e', 'eb', 'eba', 'eck', 'ed', 'ee', 'een', 'eens', 'el', 'eli', 'elig', 'en', 'equi', 'es', 'f', 'fi', 'fie', 'fied', 'fou', 'four', 'g', 'ge', 'gh', 'ght', 'ghts', 'gs', 'h', 'he', 'heb', 'ht', 'hts', 'i', 'id', 'idi', 'idif', 'ie', 'ied', 'if', 'ifi', 'ifie', 'ig', 'igh', 'ight', 'il', 'ill', 'illa', 'in', 'ing', 'ipu', 'isit', 'ist', 'ists', 'it', 'ite', 'iti', 'itin', 'l', 'la', 'lag', 'late', 'li', 'lig', 'ligh', 'lt', 'ltr', 'm', 'mb', 'n', 'na', 'nan', 'nant', 'ng', 'ngs', 'ni', 'ning', 'ns', 'nt', 'nte', 'ntes', 'o', 'on', 'oni', 'onin', 'ou', 'our', 'ourt', 'p', 'pi', 'pil', 'pu', 'pul', 'qu', 'qui', 'r', 're', 'rec', 'rel', 'reli', 'req', 'requ', 'rte', 'ru', 'rui', 'ruis', 's', 'sh', 'she', 'si', 'sti', 'su', 'sui', 'suit', 't', 'te', 'tee', 'tes', 'ti', 'tin', 'ting', 'tip', 'tr', 'ts', 'u', 'ui', 'uis', 'uisi', 'uist', 'uit', 'uiti', 'ula', 'um', 'umb', 'ur', 'urte']\n",
      "nantes \t\t ['a', 'ac', 'aci', 'acid', 'age', 'an', 'ang', 'ant', 'ante', 'at', 'ate', 'b', 'ba', 'ban', 'bang', 'c', 'ci', 'cid', 'ck', 'cko', 'd', 'di', 'dif', 'difi', 'du', 'dum', 'dumb', 'e', 'eb', 'eba', 'eck', 'ed', 'ee', 'een', 'eens', 'el', 'eli', 'elig', 'en', 'equi', 'es', 'f', 'fi', 'fie', 'fied', 'fou', 'four', 'g', 'ge', 'gh', 'ght', 'ghts', 'gs', 'h', 'he', 'heb', 'ht', 'hts', 'i', 'id', 'idi', 'idif', 'ie', 'ied', 'if', 'ifi', 'ifie', 'ig', 'igh', 'ight', 'il', 'ill', 'illa', 'in', 'ing', 'ipu', 'isit', 'ist', 'ists', 'it', 'ite', 'iti', 'itin', 'l', 'la', 'lag', 'late', 'li', 'lig', 'ligh', 'lt', 'ltr', 'm', 'mb', 'n', 'na', 'nan', 'nant', 'ng', 'ngs', 'ni', 'ning', 'ns', 'nt', 'nte', 'ntes', 'o', 'on', 'oni', 'onin', 'ou', 'our', 'ourt', 'p', 'pi', 'pil', 'pu', 'pul', 'qu', 'qui', 'r', 're', 'rec', 'rel', 'reli', 'req', 'requ', 'rte', 'ru', 'rui', 'ruis', 's', 'sh', 'she', 'si', 'sti', 'su', 'sui', 'suit', 't', 'te', 'tee', 'tes', 'ti', 'tin', 'ting', 'tip', 'tr', 'ts', 'u', 'ui', 'uis', 'uisi', 'uist', 'uit', 'uiti', 'ula', 'um', 'umb', 'ur', 'urte']\n"
     ]
    }
   ],
   "source": [
    "for i in range(12):\n",
    "#     print(ngramtr.ngram_from_matrix(batch_y[i]))\n",
    "    print(\"{} \\t\\t {}\".format(word_from_image_path(images_paths[:12][i]).lower(), ngramtr.ngram_from_matrix(predictions[i])) )"
   ]
  },
  {
   "cell_type": "code",
   "execution_count": null,
   "metadata": {
    "collapsed": true
   },
   "outputs": [],
   "source": []
  }
 ],
 "metadata": {
  "anaconda-cloud": {},
  "kernelspec": {
   "display_name": "Python [default]",
   "language": "python",
   "name": "python3"
  },
  "language_info": {
   "codemirror_mode": {
    "name": "ipython",
    "version": 3
   },
   "file_extension": ".py",
   "mimetype": "text/x-python",
   "name": "python",
   "nbconvert_exporter": "python",
   "pygments_lexer": "ipython3",
   "version": "3.5.2"
  }
 },
 "nbformat": 4,
 "nbformat_minor": 2
}

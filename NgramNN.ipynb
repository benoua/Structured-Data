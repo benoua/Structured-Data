{
 "cells": [
  {
   "cell_type": "code",
   "execution_count": 38,
   "metadata": {
    "collapsed": false
   },
   "outputs": [
    {
     "name": "stdout",
     "output_type": "stream",
     "text": [
      "The autoreload extension is already loaded. To reload it, use:\n",
      "  %reload_ext autoreload\n"
     ]
    }
   ],
   "source": [
    "%matplotlib inline\n",
    "import matplotlib.pyplot as plt\n",
    "import numpy as np\n",
    "import os\n",
    "import os.path as op\n",
    "import shutil\n",
    "from zipfile import ZipFile\n",
    "from keras.preprocessing.image import array_to_img, img_to_array, load_img\n",
    "from utils import get_image_paths, word_from_image_path, preprocess_image, print_im, TextTransform, N_CHARS, SEQUENCE_LENGTH, IMAGE_DIMENSIONS\n",
    "from utils import NgramTransform, load_trained_CNN_weights\n",
    "from multi_gpu import make_parallel\n",
    "\n",
    "%load_ext autoreload\n",
    "%autoreload 2"
   ]
  },
  {
   "cell_type": "markdown",
   "metadata": {
    "collapsed": false
   },
   "source": [
    "#### Building N-grams Neural Network"
   ]
  },
  {
   "cell_type": "code",
   "execution_count": 42,
   "metadata": {
    "collapsed": false
   },
   "outputs": [],
   "source": [
    "# cnn = load_trained_CNN_weights('p_model_0.h5')"
   ]
  },
  {
   "cell_type": "code",
   "execution_count": 36,
   "metadata": {
    "collapsed": false
   },
   "outputs": [
    {
     "ename": "TypeError",
     "evalue": "super(type, obj): obj must be an instance or subtype of type",
     "output_type": "error",
     "traceback": [
      "\u001b[0;31m---------------------------------------------------------------------------\u001b[0m",
      "\u001b[0;31mTypeError\u001b[0m                                 Traceback (most recent call last)",
      "\u001b[0;32m<ipython-input-36-f3c11a54a686>\u001b[0m in \u001b[0;36m<module>\u001b[0;34m()\u001b[0m\n\u001b[1;32m      4\u001b[0m \u001b[0;34m\u001b[0m\u001b[0m\n\u001b[1;32m      5\u001b[0m \u001b[0;31m## Decapitation of previous trained CNN\u001b[0m\u001b[0;34m\u001b[0m\u001b[0;34m\u001b[0m\u001b[0m\n\u001b[0;32m----> 6\u001b[0;31m \u001b[0mcnn\u001b[0m \u001b[0;34m=\u001b[0m \u001b[0mload_model\u001b[0m\u001b[0;34m(\u001b[0m\u001b[0;34m'model_random_weights.keras'\u001b[0m\u001b[0;34m)\u001b[0m\u001b[0;34m\u001b[0m\u001b[0m\n\u001b[0m\u001b[1;32m      7\u001b[0m \u001b[0minput\u001b[0m \u001b[0;34m=\u001b[0m \u001b[0mcnn\u001b[0m\u001b[0;34m.\u001b[0m\u001b[0mlayers\u001b[0m\u001b[0;34m[\u001b[0m\u001b[0;36m0\u001b[0m\u001b[0;34m]\u001b[0m\u001b[0;34m.\u001b[0m\u001b[0minput\u001b[0m\u001b[0;34m\u001b[0m\u001b[0m\n\u001b[1;32m      8\u001b[0m \u001b[0moutput\u001b[0m \u001b[0;34m=\u001b[0m \u001b[0mcnn\u001b[0m\u001b[0;34m.\u001b[0m\u001b[0mlayers\u001b[0m\u001b[0;34m[\u001b[0m\u001b[0;34m-\u001b[0m\u001b[0;36m4\u001b[0m\u001b[0;34m]\u001b[0m\u001b[0;34m.\u001b[0m\u001b[0moutput\u001b[0m\u001b[0;34m\u001b[0m\u001b[0m\n",
      "\u001b[0;32m/workspace/miniconda3/lib/python3.5/site-packages/keras/models.py\u001b[0m in \u001b[0;36mload_model\u001b[0;34m(filepath, custom_objects)\u001b[0m\n\u001b[1;32m    140\u001b[0m         \u001b[0;32mraise\u001b[0m \u001b[0mValueError\u001b[0m\u001b[0;34m(\u001b[0m\u001b[0;34m'No model found in config file.'\u001b[0m\u001b[0;34m)\u001b[0m\u001b[0;34m\u001b[0m\u001b[0m\n\u001b[1;32m    141\u001b[0m     \u001b[0mmodel_config\u001b[0m \u001b[0;34m=\u001b[0m \u001b[0mjson\u001b[0m\u001b[0;34m.\u001b[0m\u001b[0mloads\u001b[0m\u001b[0;34m(\u001b[0m\u001b[0mmodel_config\u001b[0m\u001b[0;34m.\u001b[0m\u001b[0mdecode\u001b[0m\u001b[0;34m(\u001b[0m\u001b[0;34m'utf-8'\u001b[0m\u001b[0;34m)\u001b[0m\u001b[0;34m)\u001b[0m\u001b[0;34m\u001b[0m\u001b[0m\n\u001b[0;32m--> 142\u001b[0;31m     \u001b[0mmodel\u001b[0m \u001b[0;34m=\u001b[0m \u001b[0mmodel_from_config\u001b[0m\u001b[0;34m(\u001b[0m\u001b[0mmodel_config\u001b[0m\u001b[0;34m,\u001b[0m \u001b[0mcustom_objects\u001b[0m\u001b[0;34m=\u001b[0m\u001b[0mcustom_objects\u001b[0m\u001b[0;34m)\u001b[0m\u001b[0;34m\u001b[0m\u001b[0m\n\u001b[0m\u001b[1;32m    143\u001b[0m \u001b[0;34m\u001b[0m\u001b[0m\n\u001b[1;32m    144\u001b[0m     \u001b[0;31m# set weights\u001b[0m\u001b[0;34m\u001b[0m\u001b[0;34m\u001b[0m\u001b[0m\n",
      "\u001b[0;32m/workspace/miniconda3/lib/python3.5/site-packages/keras/models.py\u001b[0m in \u001b[0;36mmodel_from_config\u001b[0;34m(config, custom_objects)\u001b[0m\n\u001b[1;32m    191\u001b[0m                         \u001b[0;34m'Maybe you meant to use '\u001b[0m\u001b[0;34m\u001b[0m\u001b[0m\n\u001b[1;32m    192\u001b[0m                         '`Sequential.from_config(config)`?')\n\u001b[0;32m--> 193\u001b[0;31m     \u001b[0;32mreturn\u001b[0m \u001b[0mlayer_from_config\u001b[0m\u001b[0;34m(\u001b[0m\u001b[0mconfig\u001b[0m\u001b[0;34m,\u001b[0m \u001b[0mcustom_objects\u001b[0m\u001b[0;34m=\u001b[0m\u001b[0mcustom_objects\u001b[0m\u001b[0;34m)\u001b[0m\u001b[0;34m\u001b[0m\u001b[0m\n\u001b[0m\u001b[1;32m    194\u001b[0m \u001b[0;34m\u001b[0m\u001b[0m\n\u001b[1;32m    195\u001b[0m \u001b[0;34m\u001b[0m\u001b[0m\n",
      "\u001b[0;32m/workspace/miniconda3/lib/python3.5/site-packages/keras/utils/layer_utils.py\u001b[0m in \u001b[0;36mlayer_from_config\u001b[0;34m(config, custom_objects)\u001b[0m\n\u001b[1;32m     41\u001b[0m                                        custom_objects=custom_objects)\n\u001b[1;32m     42\u001b[0m     \u001b[0;32melse\u001b[0m\u001b[0;34m:\u001b[0m\u001b[0;34m\u001b[0m\u001b[0m\n\u001b[0;32m---> 43\u001b[0;31m         \u001b[0;32mreturn\u001b[0m \u001b[0mlayer_class\u001b[0m\u001b[0;34m.\u001b[0m\u001b[0mfrom_config\u001b[0m\u001b[0;34m(\u001b[0m\u001b[0mconfig\u001b[0m\u001b[0;34m[\u001b[0m\u001b[0;34m'config'\u001b[0m\u001b[0;34m]\u001b[0m\u001b[0;34m)\u001b[0m\u001b[0;34m\u001b[0m\u001b[0m\n\u001b[0m\u001b[1;32m     44\u001b[0m \u001b[0;34m\u001b[0m\u001b[0m\n\u001b[1;32m     45\u001b[0m \u001b[0;34m\u001b[0m\u001b[0m\n",
      "\u001b[0;32m/workspace/miniconda3/lib/python3.5/site-packages/keras/models.py\u001b[0m in \u001b[0;36mfrom_config\u001b[0;34m(cls, config, layer_cache)\u001b[0m\n\u001b[1;32m   1088\u001b[0m         \u001b[0;32mfor\u001b[0m \u001b[0mconf\u001b[0m \u001b[0;32min\u001b[0m \u001b[0mconfig\u001b[0m\u001b[0;34m[\u001b[0m\u001b[0;36m1\u001b[0m\u001b[0;34m:\u001b[0m\u001b[0;34m]\u001b[0m\u001b[0;34m:\u001b[0m\u001b[0;34m\u001b[0m\u001b[0m\n\u001b[1;32m   1089\u001b[0m             \u001b[0mconf\u001b[0m \u001b[0;34m=\u001b[0m \u001b[0mnormalize_legacy_config\u001b[0m\u001b[0;34m(\u001b[0m\u001b[0mconf\u001b[0m\u001b[0;34m)\u001b[0m\u001b[0;34m\u001b[0m\u001b[0m\n\u001b[0;32m-> 1090\u001b[0;31m             \u001b[0mlayer\u001b[0m \u001b[0;34m=\u001b[0m \u001b[0mget_or_create_layer\u001b[0m\u001b[0;34m(\u001b[0m\u001b[0mconf\u001b[0m\u001b[0;34m)\u001b[0m\u001b[0;34m\u001b[0m\u001b[0m\n\u001b[0m\u001b[1;32m   1091\u001b[0m             \u001b[0mmodel\u001b[0m\u001b[0;34m.\u001b[0m\u001b[0madd\u001b[0m\u001b[0;34m(\u001b[0m\u001b[0mlayer\u001b[0m\u001b[0;34m)\u001b[0m\u001b[0;34m\u001b[0m\u001b[0m\n\u001b[1;32m   1092\u001b[0m         \u001b[0;32mreturn\u001b[0m \u001b[0mmodel\u001b[0m\u001b[0;34m\u001b[0m\u001b[0m\n",
      "\u001b[0;32m/workspace/miniconda3/lib/python3.5/site-packages/keras/models.py\u001b[0m in \u001b[0;36mget_or_create_layer\u001b[0;34m(layer_data)\u001b[0m\n\u001b[1;32m   1067\u001b[0m             \u001b[0;32mif\u001b[0m \u001b[0mname\u001b[0m \u001b[0;32min\u001b[0m \u001b[0mlayer_cache\u001b[0m\u001b[0;34m:\u001b[0m\u001b[0;34m\u001b[0m\u001b[0m\n\u001b[1;32m   1068\u001b[0m                 \u001b[0;32mreturn\u001b[0m \u001b[0mlayer_cache\u001b[0m\u001b[0;34m[\u001b[0m\u001b[0mname\u001b[0m\u001b[0;34m]\u001b[0m\u001b[0;34m\u001b[0m\u001b[0m\n\u001b[0;32m-> 1069\u001b[0;31m             \u001b[0mlayer\u001b[0m \u001b[0;34m=\u001b[0m \u001b[0mlayer_from_config\u001b[0m\u001b[0;34m(\u001b[0m\u001b[0mlayer_data\u001b[0m\u001b[0;34m)\u001b[0m\u001b[0;34m\u001b[0m\u001b[0m\n\u001b[0m\u001b[1;32m   1070\u001b[0m             \u001b[0mlayer_cache\u001b[0m\u001b[0;34m[\u001b[0m\u001b[0mname\u001b[0m\u001b[0;34m]\u001b[0m \u001b[0;34m=\u001b[0m \u001b[0mlayer\u001b[0m\u001b[0;34m\u001b[0m\u001b[0m\n\u001b[1;32m   1071\u001b[0m             \u001b[0;32mreturn\u001b[0m \u001b[0mlayer\u001b[0m\u001b[0;34m\u001b[0m\u001b[0m\n",
      "\u001b[0;32m/workspace/miniconda3/lib/python3.5/site-packages/keras/utils/layer_utils.py\u001b[0m in \u001b[0;36mlayer_from_config\u001b[0;34m(config, custom_objects)\u001b[0m\n\u001b[1;32m     41\u001b[0m                                        custom_objects=custom_objects)\n\u001b[1;32m     42\u001b[0m     \u001b[0;32melse\u001b[0m\u001b[0;34m:\u001b[0m\u001b[0;34m\u001b[0m\u001b[0m\n\u001b[0;32m---> 43\u001b[0;31m         \u001b[0;32mreturn\u001b[0m \u001b[0mlayer_class\u001b[0m\u001b[0;34m.\u001b[0m\u001b[0mfrom_config\u001b[0m\u001b[0;34m(\u001b[0m\u001b[0mconfig\u001b[0m\u001b[0;34m[\u001b[0m\u001b[0;34m'config'\u001b[0m\u001b[0;34m]\u001b[0m\u001b[0;34m)\u001b[0m\u001b[0;34m\u001b[0m\u001b[0m\n\u001b[0m\u001b[1;32m     44\u001b[0m \u001b[0;34m\u001b[0m\u001b[0m\n\u001b[1;32m     45\u001b[0m \u001b[0;34m\u001b[0m\u001b[0m\n",
      "\u001b[0;32m/workspace/miniconda3/lib/python3.5/site-packages/keras/engine/topology.py\u001b[0m in \u001b[0;36mfrom_config\u001b[0;34m(cls, config)\u001b[0m\n\u001b[1;32m   1023\u001b[0m                 \u001b[0moutput\u001b[0m \u001b[0mof\u001b[0m \u001b[0mget_config\u001b[0m\u001b[0;34m.\u001b[0m\u001b[0;34m\u001b[0m\u001b[0m\n\u001b[1;32m   1024\u001b[0m         \"\"\"\n\u001b[0;32m-> 1025\u001b[0;31m         \u001b[0;32mreturn\u001b[0m \u001b[0mcls\u001b[0m\u001b[0;34m(\u001b[0m\u001b[0;34m**\u001b[0m\u001b[0mconfig\u001b[0m\u001b[0;34m)\u001b[0m\u001b[0;34m\u001b[0m\u001b[0m\n\u001b[0m\u001b[1;32m   1026\u001b[0m \u001b[0;34m\u001b[0m\u001b[0m\n\u001b[1;32m   1027\u001b[0m     \u001b[0;32mdef\u001b[0m \u001b[0mcount_params\u001b[0m\u001b[0;34m(\u001b[0m\u001b[0mself\u001b[0m\u001b[0;34m)\u001b[0m\u001b[0;34m:\u001b[0m\u001b[0;34m\u001b[0m\u001b[0m\n",
      "\u001b[0;32m/workspace/miniconda3/lib/python3.5/site-packages/keras/layers/core.py\u001b[0m in \u001b[0;36m__init__\u001b[0;34m(self, **kwargs)\u001b[0m\n\u001b[1;32m    467\u001b[0m     \u001b[0;32mdef\u001b[0m \u001b[0m__init__\u001b[0m\u001b[0;34m(\u001b[0m\u001b[0mself\u001b[0m\u001b[0;34m,\u001b[0m \u001b[0;34m**\u001b[0m\u001b[0mkwargs\u001b[0m\u001b[0;34m)\u001b[0m\u001b[0;34m:\u001b[0m\u001b[0;34m\u001b[0m\u001b[0m\n\u001b[1;32m    468\u001b[0m         \u001b[0mself\u001b[0m\u001b[0;34m.\u001b[0m\u001b[0minput_spec\u001b[0m \u001b[0;34m=\u001b[0m \u001b[0;34m[\u001b[0m\u001b[0mInputSpec\u001b[0m\u001b[0;34m(\u001b[0m\u001b[0mndim\u001b[0m\u001b[0;34m=\u001b[0m\u001b[0;34m'3+'\u001b[0m\u001b[0;34m)\u001b[0m\u001b[0;34m]\u001b[0m\u001b[0;34m\u001b[0m\u001b[0m\n\u001b[0;32m--> 469\u001b[0;31m         \u001b[0msuper\u001b[0m\u001b[0;34m(\u001b[0m\u001b[0mFlatten\u001b[0m\u001b[0;34m,\u001b[0m \u001b[0mself\u001b[0m\u001b[0;34m)\u001b[0m\u001b[0;34m.\u001b[0m\u001b[0m__init__\u001b[0m\u001b[0;34m(\u001b[0m\u001b[0;34m**\u001b[0m\u001b[0mkwargs\u001b[0m\u001b[0;34m)\u001b[0m\u001b[0;34m\u001b[0m\u001b[0m\n\u001b[0m\u001b[1;32m    470\u001b[0m \u001b[0;34m\u001b[0m\u001b[0m\n\u001b[1;32m    471\u001b[0m     \u001b[0;32mdef\u001b[0m \u001b[0mget_output_shape_for\u001b[0m\u001b[0;34m(\u001b[0m\u001b[0mself\u001b[0m\u001b[0;34m,\u001b[0m \u001b[0minput_shape\u001b[0m\u001b[0;34m)\u001b[0m\u001b[0;34m:\u001b[0m\u001b[0;34m\u001b[0m\u001b[0m\n",
      "\u001b[0;31mTypeError\u001b[0m: super(type, obj): obj must be an instance or subtype of type"
     ]
    }
   ],
   "source": [
    "from keras.models import Sequential, Model, load_model\n",
    "from keras.layers import Conv2D, MaxPooling2D, Dropout, Dense, Reshape, Activation, GlobalAveragePooling2D\n",
    "from keras.layers import Flatten\n",
    "\n",
    "## Decapitation of previous trained CNN\n",
    "cnn = load_model('model_random_weights.keras')\n",
    "input = cnn.layers[0].input\n",
    "output = cnn.layers[-4].output\n",
    "base_ngrams = Model(input=input, output=output)\n",
    "# input_shape = (None, 32, 100, 1,)\n",
    "\n",
    "ngrams = Sequential()\n",
    "ngrams.add(base_ngrams)\n",
    "\n",
    "ngrams.add(Dense(10000, input_shape=input_shape, activation='sigmoid', name= \"10kdense\")) \n",
    "\n",
    "\n",
    "ngrams.compile(optimizer='adam', loss='categorical_crossentropy')"
   ]
  },
  {
   "cell_type": "code",
   "execution_count": 154,
   "metadata": {
    "collapsed": false
   },
   "outputs": [],
   "source": [
    "# ## Parellelize model \n",
    "# p_model_ngrams = make_parallel(ngrams, 4)\n",
    "# p_model_ngrams.compile(optimizer='adam', loss='mse')"
   ]
  },
  {
   "cell_type": "markdown",
   "metadata": {},
   "source": [
    "### Loading Images"
   ]
  },
  {
   "cell_type": "code",
   "execution_count": 31,
   "metadata": {
    "collapsed": false
   },
   "outputs": [],
   "source": [
    "from tqdm import tqdm, tqdm_notebook\n",
    "base_dir = '/mnt/c/Users/benoua/Google Drive/Master X - Data Sciences/2_Structured Data/Structured-Data/mjsynth'\n",
    "base_dir = '/mnt/mjsynth/mnt/ramdisk/max/90kDICT32px/'\n",
    "\n",
    "images_paths = get_image_paths(base_dir)\n",
    "#%%time\n",
    "ims = []\n",
    "errors_1, errors_2 = [], []\n",
    "for i, im in enumerate(images_paths[:12]):\n",
    "    try:\n",
    "        ims.append(preprocess_image(img_to_array(load_img(im, grayscale=True))))\n",
    "    except OSError:\n",
    "        errors_1.append(i)"
   ]
  },
  {
   "cell_type": "code",
   "execution_count": 156,
   "metadata": {
    "collapsed": false
   },
   "outputs": [
    {
     "data": {
      "text/plain": [
       "(12, 32, 100, 1)"
      ]
     },
     "execution_count": 156,
     "metadata": {},
     "output_type": "execute_result"
    }
   ],
   "source": [
    "batch = np.stack(ims).reshape(12, 32, 100, 1)\n",
    "batch.shape"
   ]
  },
  {
   "cell_type": "code",
   "execution_count": 157,
   "metadata": {
    "collapsed": false
   },
   "outputs": [],
   "source": [
    "from utils import NgramTransform"
   ]
  },
  {
   "cell_type": "code",
   "execution_count": 158,
   "metadata": {
    "collapsed": false
   },
   "outputs": [],
   "source": [
    "ngramtr = NgramTransform()"
   ]
  },
  {
   "cell_type": "code",
   "execution_count": 159,
   "metadata": {
    "collapsed": false
   },
   "outputs": [],
   "source": [
    "batch_y = ngramtr.make_batch_labels(images_paths[:12], False)\n",
    "batch_y = batch_y.reshape(batch_y.shape[0], batch_y.shape[2]).astype(float)"
   ]
  },
  {
   "cell_type": "code",
   "execution_count": 160,
   "metadata": {
    "collapsed": false
   },
   "outputs": [
    {
     "name": "stdout",
     "output_type": "stream",
     "text": [
      "____________________________________________________________________________________________________\n",
      "Layer (type)                     Output Shape          Param #     Connected to                     \n",
      "====================================================================================================\n",
      "convolution2d_5 (Convolution2D)  (None, 32, 100, 64)   640         convolution2d_input_4[0][0]      \n",
      "____________________________________________________________________________________________________\n",
      "maxpooling2d_1 (MaxPooling2D)    (None, 16, 50, 64)    0           convolution2d_5[0][0]            \n",
      "____________________________________________________________________________________________________\n",
      "globalaveragepooling2d_8 (Global (None, 64)            0           maxpooling2d_1[0][0]             \n",
      "____________________________________________________________________________________________________\n",
      "10kdense (Dense)                 (None, 10000)         650000      globalaveragepooling2d_8[0][0]   \n",
      "====================================================================================================\n",
      "Total params: 650,640\n",
      "Trainable params: 650,640\n",
      "Non-trainable params: 0\n",
      "____________________________________________________________________________________________________\n"
     ]
    }
   ],
   "source": [
    "ngrams.summary()"
   ]
  },
  {
   "cell_type": "code",
   "execution_count": 163,
   "metadata": {
    "collapsed": false
   },
   "outputs": [
    {
     "name": "stdout",
     "output_type": "stream",
     "text": [
      "Epoch 1/10\n",
      "12/12 [==============================] - 0s - loss: 126.6781\n",
      "Epoch 2/10\n",
      "12/12 [==============================] - 0s - loss: 126.6367\n",
      "Epoch 3/10\n",
      "12/12 [==============================] - 0s - loss: 126.6542\n",
      "Epoch 4/10\n",
      "12/12 [==============================] - 0s - loss: 126.5998\n",
      "Epoch 5/10\n",
      "12/12 [==============================] - 0s - loss: 126.5830\n",
      "Epoch 6/10\n",
      "12/12 [==============================] - 0s - loss: 126.5601\n",
      "Epoch 7/10\n",
      "12/12 [==============================] - 0s - loss: 126.5304\n",
      "Epoch 8/10\n",
      "12/12 [==============================] - 0s - loss: 126.5007\n",
      "Epoch 9/10\n",
      "12/12 [==============================] - 0s - loss: 126.4600\n",
      "Epoch 10/10\n",
      "12/12 [==============================] - 0s - loss: 126.3826\n"
     ]
    },
    {
     "data": {
      "text/plain": [
       "<keras.callbacks.History at 0x7f6eb36c2da0>"
      ]
     },
     "execution_count": 163,
     "metadata": {},
     "output_type": "execute_result"
    }
   ],
   "source": [
    "ngrams.fit(batch, batch_y, nb_epoch=10)"
   ]
  },
  {
   "cell_type": "code",
   "execution_count": 171,
   "metadata": {
    "collapsed": false
   },
   "outputs": [],
   "source": [
    "predictions = ngrams.predict(batch)"
   ]
  },
  {
   "cell_type": "code",
   "execution_count": 172,
   "metadata": {
    "collapsed": false
   },
   "outputs": [],
   "source": [
    "predictions = predictions > 0.9"
   ]
  },
  {
   "cell_type": "code",
   "execution_count": 173,
   "metadata": {
    "collapsed": false
   },
   "outputs": [
    {
     "name": "stdout",
     "output_type": "stream",
     "text": [
      "fourteens \t\t ['a', 'ac', 'aci', 'acid', 'age', 'an', 'ang', 'ant', 'ante', 'at', 'ate', 'b', 'ba', 'ban', 'bang', 'c', 'ci', 'cid', 'ck', 'cko', 'd', 'di', 'dif', 'difi', 'du', 'dum', 'dumb', 'e', 'eb', 'eba', 'eck', 'ed', 'ee', 'een', 'eens', 'el', 'eli', 'elig', 'en', 'equi', 'es', 'f', 'fi', 'fie', 'fied', 'fou', 'four', 'g', 'ge', 'gh', 'ght', 'ghts', 'gs', 'h', 'he', 'heb', 'ht', 'hts', 'i', 'id', 'idi', 'idif', 'ie', 'ied', 'if', 'ifi', 'ifie', 'ig', 'igh', 'ight', 'il', 'ill', 'illa', 'in', 'ing', 'ipu', 'is', 'isit', 'ist', 'ists', 'it', 'ite', 'iti', 'itin', 'l', 'la', 'lag', 'late', 'li', 'lig', 'ligh', 'llag', 'lt', 'ltr', 'm', 'mb', 'n', 'na', 'nan', 'nant', 'ng', 'ngs', 'ni', 'ning', 'ns', 'nt', 'nte', 'ntes', 'o', 'on', 'oni', 'onin', 'ou', 'our', 'ourt', 'p', 'pi', 'pil', 'pu', 'pul', 'qu', 'qui', 'r', 're', 'rec', 'rel', 'reli', 'req', 'requ', 'rte', 'ru', 'rui', 'ruis', 's', 'sh', 'she', 'si', 'st', 'sti', 'su', 'sui', 'suit', 't', 'te', 'tee', 'tes', 'ti', 'tin', 'ting', 'tip', 'tr', 'ts', 'u', 'ui', 'uis', 'uisi', 'uist', 'uit', 'uiti', 'ula', 'um', 'umb', 'ur', 'urte']\n",
      "reckonings \t\t ['a', 'ac', 'aci', 'acid', 'ag', 'age', 'al', 'an', 'ang', 'ant', 'ante', 'at', 'ate', 'ates', 'b', 'ba', 'ban', 'bang', 'c', 'ci', 'cid', 'ck', 'cko', 'd', 'di', 'dif', 'difi', 'du', 'dum', 'dumb', 'e', 'eb', 'eba', 'eck', 'ed', 'ee', 'een', 'eens', 'el', 'eli', 'elig', 'en', 'ens', 'equi', 'es', 'f', 'fi', 'fie', 'fied', 'fo', 'fou', 'four', 'g', 'ge', 'gh', 'ght', 'ghts', 'gs', 'h', 'he', 'heb', 'ht', 'hts', 'i', 'id', 'idi', 'idif', 'ie', 'ied', 'if', 'ifi', 'ifie', 'ig', 'igh', 'ight', 'il', 'ill', 'illa', 'in', 'ing', 'ipu', 'is', 'isi', 'isit', 'ist', 'ists', 'it', 'ite', 'iti', 'itin', 'l', 'la', 'lag', 'lage', 'lat', 'late', 'li', 'lig', 'ligh', 'll', 'llag', 'lt', 'ltr', 'm', 'mb', 'n', 'na', 'nan', 'nant', 'ng', 'ngs', 'ni', 'ning', 'ns', 'nt', 'nte', 'ntes', 'o', 'on', 'oni', 'onin', 'ou', 'our', 'ourt', 'p', 'pi', 'pil', 'pill', 'pu', 'pul', 'q', 'qu', 'qui', 'quis', 'r', 're', 'rec', 'rel', 'reli', 'req', 'requ', 'rte', 'ru', 'rui', 'ruis', 's', 'sh', 'she', 'si', 'sit', 'site', 'st', 'sti', 'stip', 'su', 'sui', 'suit', 't', 'te', 'tee', 'tes', 'ti', 'tin', 'ting', 'tip', 'tr', 'ts', 'u', 'ui', 'uis', 'uisi', 'uist', 'uit', 'uiti', 'ul', 'ula', 'ulat', 'um', 'umb', 'ur', 'urt', 'urte']\n",
      "requisite \t\t ['a', 'ac', 'aci', 'acid', 'ag', 'age', 'al', 'an', 'ang', 'ant', 'ante', 'at', 'ate', 'b', 'ba', 'ban', 'bang', 'c', 'ci', 'cid', 'ck', 'cko', 'd', 'di', 'dif', 'difi', 'du', 'dum', 'dumb', 'e', 'eb', 'eba', 'eck', 'ed', 'ee', 'een', 'eens', 'el', 'eli', 'elig', 'en', 'ens', 'equi', 'es', 'f', 'fi', 'fie', 'fied', 'fo', 'fou', 'four', 'g', 'ge', 'gh', 'ght', 'ghts', 'gs', 'h', 'he', 'heb', 'ht', 'hts', 'i', 'id', 'idi', 'idif', 'ie', 'ied', 'if', 'ifi', 'ifie', 'ig', 'igh', 'ight', 'il', 'ill', 'illa', 'in', 'ing', 'ipu', 'is', 'isit', 'ist', 'ists', 'it', 'ite', 'iti', 'itin', 'l', 'la', 'lag', 'late', 'li', 'lig', 'ligh', 'll', 'llag', 'lt', 'ltr', 'm', 'mb', 'n', 'na', 'nan', 'nant', 'ng', 'ngs', 'ni', 'ning', 'ns', 'nt', 'nte', 'ntes', 'o', 'on', 'oni', 'onin', 'ou', 'our', 'ourt', 'p', 'pi', 'pil', 'pill', 'pu', 'pul', 'qu', 'qui', 'r', 're', 'rec', 'rel', 'reli', 'req', 'requ', 'rte', 'ru', 'rui', 'ruis', 's', 'sh', 'she', 'si', 'st', 'sti', 'su', 'sui', 'suit', 't', 'te', 'tee', 'tes', 'ti', 'tin', 'ting', 'tip', 'tr', 'ts', 'u', 'ui', 'uis', 'uisi', 'uist', 'uit', 'uiti', 'ula', 'um', 'umb', 'ur', 'urte']\n",
      "relights \t\t ['a', 'ac', 'aci', 'acid', 'age', 'an', 'ang', 'ant', 'ante', 'at', 'ate', 'b', 'ba', 'ban', 'bang', 'c', 'ci', 'cid', 'ck', 'cko', 'd', 'di', 'dif', 'difi', 'du', 'dum', 'dumb', 'e', 'eb', 'eba', 'eck', 'ed', 'ee', 'een', 'eens', 'el', 'eli', 'elig', 'en', 'equi', 'es', 'f', 'fi', 'fie', 'fied', 'fou', 'four', 'g', 'ge', 'gh', 'ght', 'ghts', 'gs', 'h', 'he', 'heb', 'ht', 'hts', 'i', 'id', 'idi', 'idif', 'ie', 'ied', 'if', 'ifi', 'ifie', 'ig', 'igh', 'ight', 'il', 'ill', 'illa', 'in', 'ing', 'ipu', 'isit', 'ist', 'ists', 'it', 'ite', 'iti', 'itin', 'l', 'la', 'lag', 'late', 'li', 'lig', 'ligh', 'lt', 'ltr', 'm', 'mb', 'n', 'na', 'nan', 'nant', 'ng', 'ngs', 'ni', 'ning', 'ns', 'nt', 'nte', 'ntes', 'o', 'on', 'oni', 'onin', 'ou', 'our', 'ourt', 'p', 'pi', 'pil', 'pu', 'pul', 'qu', 'qui', 'r', 're', 'rec', 'rel', 'reli', 'req', 'requ', 'rte', 'ru', 'rui', 'ruis', 's', 'sh', 'she', 'si', 'sti', 'su', 'sui', 'suit', 't', 'te', 'tee', 'tes', 'ti', 'tin', 'ting', 'tip', 'tr', 'ts', 'u', 'ui', 'uis', 'uisi', 'uist', 'uit', 'uiti', 'ula', 'um', 'umb', 'ur', 'urte']\n",
      "stipulates \t\t ['a', 'ac', 'aci', 'acid', 'age', 'al', 'an', 'ang', 'ant', 'ante', 'at', 'ate', 'b', 'ba', 'ban', 'bang', 'c', 'ci', 'cid', 'ck', 'cko', 'd', 'di', 'dif', 'difi', 'du', 'dum', 'dumb', 'e', 'eb', 'eba', 'eck', 'ed', 'ee', 'een', 'eens', 'el', 'eli', 'elig', 'en', 'ens', 'equi', 'es', 'f', 'fi', 'fie', 'fied', 'fou', 'four', 'g', 'ge', 'gh', 'ght', 'ghts', 'gs', 'h', 'he', 'heb', 'ht', 'hts', 'i', 'id', 'idi', 'idif', 'ie', 'ied', 'if', 'ifi', 'ifie', 'ig', 'igh', 'ight', 'il', 'ill', 'illa', 'in', 'ing', 'ipu', 'is', 'isit', 'ist', 'ists', 'it', 'ite', 'iti', 'itin', 'l', 'la', 'lag', 'late', 'li', 'lig', 'ligh', 'llag', 'lt', 'ltr', 'm', 'mb', 'n', 'na', 'nan', 'nant', 'ng', 'ngs', 'ni', 'ning', 'ns', 'nt', 'nte', 'ntes', 'o', 'on', 'oni', 'onin', 'ou', 'our', 'ourt', 'p', 'pi', 'pil', 'pu', 'pul', 'qu', 'qui', 'r', 're', 'rec', 'rel', 'reli', 'req', 'requ', 'rte', 'ru', 'rui', 'ruis', 's', 'sh', 'she', 'si', 'st', 'sti', 'su', 'sui', 'suit', 't', 'te', 'tee', 'tes', 'ti', 'tin', 'ting', 'tip', 'tr', 'ts', 'u', 'ui', 'uis', 'uisi', 'uist', 'uit', 'uiti', 'ula', 'um', 'umb', 'ur', 'urte']\n",
      "acidified \t\t ['a', 'ac', 'aci', 'acid', 'age', 'an', 'ang', 'ant', 'ante', 'at', 'ate', 'b', 'ba', 'ban', 'bang', 'c', 'ci', 'cid', 'ck', 'cko', 'd', 'di', 'dif', 'difi', 'du', 'dum', 'dumb', 'e', 'eb', 'eba', 'eck', 'ed', 'ee', 'een', 'eens', 'el', 'eli', 'elig', 'en', 'equi', 'es', 'f', 'fi', 'fie', 'fied', 'fou', 'four', 'g', 'ge', 'gh', 'ght', 'ghts', 'gs', 'h', 'he', 'heb', 'ht', 'hts', 'i', 'id', 'idi', 'idif', 'ie', 'ied', 'if', 'ifi', 'ifie', 'ig', 'igh', 'ight', 'il', 'ill', 'illa', 'in', 'ing', 'ipu', 'isit', 'ist', 'ists', 'it', 'ite', 'iti', 'itin', 'l', 'la', 'lag', 'late', 'li', 'lig', 'ligh', 'lt', 'ltr', 'm', 'mb', 'n', 'na', 'nan', 'nant', 'ng', 'ngs', 'ni', 'ning', 'ns', 'nt', 'nte', 'ntes', 'o', 'on', 'oni', 'onin', 'ou', 'our', 'ourt', 'p', 'pi', 'pil', 'pu', 'pul', 'qu', 'qui', 'r', 're', 'rec', 'rel', 'reli', 'req', 'requ', 'rte', 'ru', 'rui', 'ruis', 's', 'sh', 'she', 'si', 'sti', 'su', 'sui', 'suit', 't', 'te', 'tee', 'tes', 'ti', 'tin', 'ting', 'tip', 'tr', 'ts', 'u', 'ui', 'uis', 'uisi', 'uist', 'uit', 'uiti', 'ula', 'um', 'umb', 'ur', 'urte']\n",
      "dumb \t\t ['a', 'ac', 'aci', 'acid', 'age', 'an', 'ang', 'ant', 'ante', 'at', 'ate', 'b', 'ba', 'ban', 'bang', 'c', 'ci', 'cid', 'ck', 'cko', 'd', 'di', 'dif', 'difi', 'du', 'dum', 'dumb', 'e', 'eb', 'eba', 'eck', 'ed', 'ee', 'een', 'eens', 'el', 'eli', 'elig', 'en', 'equi', 'es', 'f', 'fi', 'fie', 'fied', 'fou', 'four', 'g', 'ge', 'gh', 'ght', 'ghts', 'gs', 'h', 'he', 'heb', 'ht', 'hts', 'i', 'id', 'idi', 'idif', 'ie', 'ied', 'if', 'ifi', 'ifie', 'ig', 'igh', 'ight', 'il', 'ill', 'illa', 'in', 'ing', 'ipu', 'isit', 'ist', 'ists', 'it', 'ite', 'iti', 'itin', 'l', 'la', 'lag', 'late', 'li', 'lig', 'ligh', 'lt', 'ltr', 'm', 'mb', 'n', 'na', 'nan', 'nant', 'ng', 'ngs', 'ni', 'ning', 'ns', 'nt', 'nte', 'ntes', 'o', 'on', 'oni', 'onin', 'ou', 'our', 'ourt', 'p', 'pi', 'pil', 'pu', 'pul', 'qu', 'qui', 'r', 're', 'rec', 'rel', 'reli', 'req', 'requ', 'rte', 'ru', 'rui', 'ruis', 's', 'sh', 'she', 'si', 'sti', 'su', 'sui', 'suit', 't', 'te', 'tee', 'tes', 'ti', 'tin', 'ting', 'tip', 'tr', 'ts', 'u', 'ui', 'uis', 'uisi', 'uist', 'uit', 'uiti', 'ula', 'um', 'umb', 'ur', 'urte']\n",
      "suiting \t\t ['a', 'ac', 'aci', 'acid', 'age', 'an', 'ang', 'ant', 'ante', 'at', 'ate', 'b', 'ba', 'ban', 'bang', 'c', 'ci', 'cid', 'ck', 'cko', 'd', 'di', 'dif', 'difi', 'du', 'dum', 'dumb', 'e', 'eb', 'eck', 'ed', 'ee', 'een', 'eens', 'el', 'eli', 'elig', 'en', 'equi', 'es', 'f', 'fi', 'fie', 'fied', 'fou', 'four', 'g', 'ge', 'gh', 'ght', 'ghts', 'gs', 'h', 'he', 'heb', 'ht', 'hts', 'i', 'id', 'idi', 'idif', 'ie', 'ied', 'if', 'ifi', 'ifie', 'ig', 'igh', 'ight', 'il', 'ill', 'illa', 'in', 'ing', 'ipu', 'isit', 'ist', 'ists', 'it', 'ite', 'iti', 'itin', 'l', 'la', 'lag', 'late', 'li', 'lig', 'ligh', 'lt', 'ltr', 'm', 'mb', 'n', 'na', 'nan', 'nant', 'ng', 'ngs', 'ni', 'ning', 'ns', 'nt', 'nte', 'ntes', 'o', 'on', 'oni', 'onin', 'ou', 'our', 'ourt', 'p', 'pi', 'pil', 'pu', 'pul', 'qu', 'r', 're', 'rec', 'rel', 'reli', 'req', 'requ', 'rte', 'ru', 'rui', 'ruis', 's', 'sh', 'she', 'si', 'sti', 'su', 'sui', 'suit', 't', 'te', 'tee', 'tes', 'ti', 'tin', 'ting', 'tip', 'tr', 'ts', 'u', 'ui', 'uis', 'uisi', 'uist', 'uit', 'uiti', 'ula', 'um', 'umb', 'ur', 'urte']\n",
      "altruists \t\t ['a', 'ac', 'aci', 'acid', 'age', 'an', 'ang', 'ant', 'ante', 'at', 'ate', 'b', 'ba', 'ban', 'bang', 'c', 'ci', 'cid', 'ck', 'cko', 'd', 'di', 'dif', 'difi', 'du', 'dum', 'dumb', 'e', 'eb', 'eba', 'eck', 'ed', 'ee', 'een', 'eens', 'el', 'eli', 'elig', 'en', 'equi', 'es', 'f', 'fi', 'fie', 'fied', 'fou', 'four', 'g', 'ge', 'gh', 'ght', 'ghts', 'gs', 'h', 'he', 'heb', 'ht', 'hts', 'i', 'id', 'idi', 'idif', 'ie', 'ied', 'if', 'ifi', 'ifie', 'ig', 'igh', 'ight', 'il', 'ill', 'illa', 'in', 'ing', 'ipu', 'isit', 'ist', 'ists', 'it', 'ite', 'iti', 'itin', 'l', 'la', 'lag', 'late', 'li', 'lig', 'ligh', 'lt', 'ltr', 'm', 'mb', 'n', 'na', 'nan', 'nant', 'ng', 'ngs', 'ni', 'ning', 'ns', 'nt', 'nte', 'ntes', 'o', 'on', 'oni', 'onin', 'ou', 'our', 'ourt', 'p', 'pi', 'pil', 'pu', 'pul', 'qu', 'qui', 'r', 're', 'rec', 'rel', 'reli', 'req', 'requ', 'rte', 'ru', 'rui', 'ruis', 's', 'sh', 'she', 'si', 'st', 'sti', 'su', 'sui', 'suit', 't', 'te', 'tee', 'tes', 'ti', 'tin', 'ting', 'tip', 'tr', 'ts', 'u', 'ui', 'uis', 'uisi', 'uist', 'uit', 'uiti', 'ula', 'um', 'umb', 'ur', 'urte']\n",
      "pillage \t\t ['a', 'ac', 'aci', 'acid', 'age', 'an', 'ang', 'ant', 'ante', 'at', 'ate', 'b', 'ba', 'ban', 'bang', 'c', 'ci', 'cid', 'ck', 'cko', 'd', 'di', 'dif', 'difi', 'du', 'dum', 'dumb', 'e', 'eb', 'eba', 'eck', 'ed', 'ee', 'een', 'eens', 'el', 'eli', 'elig', 'en', 'equi', 'es', 'f', 'fi', 'fie', 'fied', 'fou', 'four', 'g', 'ge', 'gh', 'ght', 'ghts', 'gs', 'h', 'he', 'heb', 'ht', 'hts', 'i', 'id', 'idi', 'idif', 'ie', 'ied', 'if', 'ifi', 'ifie', 'ig', 'igh', 'ight', 'il', 'ill', 'illa', 'in', 'ing', 'ipu', 'is', 'isit', 'ist', 'ists', 'it', 'ite', 'iti', 'itin', 'l', 'la', 'lag', 'late', 'li', 'lig', 'ligh', 'llag', 'lt', 'ltr', 'm', 'mb', 'n', 'na', 'nan', 'nant', 'ng', 'ngs', 'ni', 'ning', 'ns', 'nt', 'nte', 'ntes', 'o', 'on', 'oni', 'onin', 'ou', 'our', 'ourt', 'p', 'pi', 'pil', 'pu', 'pul', 'qu', 'qui', 'r', 're', 'rec', 'rel', 'reli', 'req', 'requ', 'rte', 'ru', 'rui', 'ruis', 's', 'sh', 'she', 'si', 'st', 'sti', 'su', 'sui', 'suit', 't', 'te', 'tee', 'tes', 'ti', 'tin', 'ting', 'tip', 'tr', 'ts', 'u', 'ui', 'uis', 'uisi', 'uist', 'uit', 'uiti', 'ula', 'um', 'umb', 'ur', 'urte']\n",
      "shebang \t\t ['a', 'ac', 'aci', 'acid', 'age', 'an', 'ang', 'ant', 'ante', 'at', 'ate', 'b', 'ba', 'ban', 'bang', 'c', 'ci', 'cid', 'ck', 'cko', 'd', 'di', 'dif', 'difi', 'du', 'dum', 'dumb', 'e', 'eb', 'eba', 'eck', 'ed', 'ee', 'een', 'eens', 'el', 'eli', 'elig', 'en', 'equi', 'es', 'f', 'fi', 'fie', 'fied', 'fou', 'four', 'g', 'ge', 'gh', 'ght', 'ghts', 'gs', 'h', 'he', 'heb', 'ht', 'hts', 'i', 'id', 'idi', 'idif', 'ie', 'ied', 'if', 'ifi', 'ifie', 'ig', 'igh', 'ight', 'il', 'ill', 'illa', 'in', 'ing', 'ipu', 'isit', 'ist', 'ists', 'it', 'ite', 'iti', 'itin', 'l', 'la', 'lag', 'late', 'li', 'lig', 'ligh', 'lt', 'ltr', 'm', 'mb', 'n', 'na', 'nan', 'nant', 'ng', 'ngs', 'ni', 'ning', 'ns', 'nt', 'nte', 'ntes', 'o', 'on', 'oni', 'onin', 'ou', 'our', 'ourt', 'p', 'pi', 'pil', 'pu', 'pul', 'qu', 'qui', 'r', 're', 'rec', 'rel', 'reli', 'req', 'requ', 'rte', 'ru', 'rui', 'ruis', 's', 'sh', 'she', 'si', 'sti', 'su', 'sui', 'suit', 't', 'te', 'tee', 'tes', 'ti', 'tin', 'ting', 'tip', 'tr', 'ts', 'u', 'ui', 'uis', 'uisi', 'uist', 'uit', 'uiti', 'ula', 'um', 'umb', 'ur', 'urte']\n",
      "nantes \t\t ['a', 'ac', 'aci', 'acid', 'age', 'an', 'ang', 'ant', 'ante', 'at', 'ate', 'b', 'ba', 'ban', 'bang', 'c', 'ci', 'cid', 'ck', 'cko', 'd', 'di', 'dif', 'difi', 'du', 'dum', 'dumb', 'e', 'eb', 'eba', 'eck', 'ed', 'ee', 'een', 'eens', 'el', 'eli', 'elig', 'en', 'equi', 'es', 'f', 'fi', 'fie', 'fied', 'fou', 'four', 'g', 'ge', 'gh', 'ght', 'ghts', 'gs', 'h', 'he', 'heb', 'ht', 'hts', 'i', 'id', 'idi', 'idif', 'ie', 'ied', 'if', 'ifi', 'ifie', 'ig', 'igh', 'ight', 'il', 'ill', 'illa', 'in', 'ing', 'ipu', 'isit', 'ist', 'ists', 'it', 'ite', 'iti', 'itin', 'l', 'la', 'lag', 'late', 'li', 'lig', 'ligh', 'lt', 'ltr', 'm', 'mb', 'n', 'na', 'nan', 'nant', 'ng', 'ngs', 'ni', 'ning', 'ns', 'nt', 'nte', 'ntes', 'o', 'on', 'oni', 'onin', 'ou', 'our', 'ourt', 'p', 'pi', 'pil', 'pu', 'pul', 'qu', 'qui', 'r', 're', 'rec', 'rel', 'reli', 'req', 'requ', 'rte', 'ru', 'rui', 'ruis', 's', 'sh', 'she', 'si', 'sti', 'su', 'sui', 'suit', 't', 'te', 'tee', 'tes', 'ti', 'tin', 'ting', 'tip', 'tr', 'ts', 'u', 'ui', 'uis', 'uisi', 'uist', 'uit', 'uiti', 'ula', 'um', 'umb', 'ur', 'urte']\n"
     ]
    }
   ],
   "source": [
    "for i in range(12):\n",
    "#     print(ngramtr.ngram_from_matrix(batch_y[i]))\n",
    "    print(\"{} \\t\\t {}\".format(word_from_image_path(images_paths[:12][i]).lower(), ngramtr.ngram_from_matrix(predictions[i])) )"
   ]
  },
  {
   "cell_type": "code",
   "execution_count": null,
   "metadata": {
    "collapsed": true
   },
   "outputs": [],
   "source": []
  }
 ],
 "metadata": {
  "anaconda-cloud": {},
  "kernelspec": {
   "display_name": "Python 3",
   "language": "python",
   "name": "python3"
  },
  "language_info": {
   "codemirror_mode": {
    "name": "ipython",
    "version": 3
   },
   "file_extension": ".py",
   "mimetype": "text/x-python",
   "name": "python",
   "nbconvert_exporter": "python",
   "pygments_lexer": "ipython3",
   "version": "3.5.2"
  }
 },
 "nbformat": 4,
 "nbformat_minor": 2
}

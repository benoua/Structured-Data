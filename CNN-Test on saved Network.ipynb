{
 "cells": [
  {
   "cell_type": "code",
   "execution_count": 2,
   "metadata": {
    "collapsed": false
   },
   "outputs": [
    {
     "name": "stderr",
     "output_type": "stream",
     "text": [
      "Using TensorFlow backend.\n"
     ]
    }
   ],
   "source": [
    "%matplotlib inline\n",
    "import matplotlib.pyplot as plt\n",
    "import numpy as np\n",
    "import os\n",
    "import os.path as op\n",
    "import shutil\n",
    "from zipfile import ZipFile\n",
    "from keras.preprocessing.image import array_to_img, img_to_array, load_img\n",
    "from utils import get_image_paths, word_from_image_path, preprocess_image, print_im, TextTransform, N_CHARS, SEQUENCE_LENGTH, IMAGE_DIMENSIONS\n",
    "from utils import NgramTransform, load_trained_CNN_weights\n",
    "from multi_gpu import make_parallel\n",
    "\n",
    "%load_ext autoreload\n",
    "%autoreload 2"
   ]
  },
  {
   "cell_type": "markdown",
   "metadata": {},
   "source": [
    "#### Building N-grams Neural Network"
   ]
  },
  {
   "cell_type": "code",
   "execution_count": 3,
   "metadata": {
    "collapsed": true
   },
   "outputs": [],
   "source": [
    "cnn = load_trained_CNN_weights('p_model_30.h5')"
   ]
  },
  {
   "cell_type": "code",
   "execution_count": 4,
   "metadata": {
    "collapsed": false
   },
   "outputs": [
    {
     "name": "stdout",
     "output_type": "stream",
     "text": [
      "____________________________________________________________________________________________________\n",
      "Layer (type)                     Output Shape          Param #     Connected to                     \n",
      "====================================================================================================\n",
      "convo0 (Convolution2D)           (None, 32, 100, 64)   1664        convolution2d_input_2[0][0]      \n",
      "____________________________________________________________________________________________________\n",
      "maxpooling2d_6 (MaxPooling2D)    (None, 16, 50, 64)    0           convo0[0][0]                     \n",
      "____________________________________________________________________________________________________\n",
      "convo1 (Convolution2D)           (None, 16, 50, 5)     5242885     maxpooling2d_6[0][0]             \n",
      "____________________________________________________________________________________________________\n",
      "maxpooling2d_7 (MaxPooling2D)    (None, 8, 25, 5)      0           convo1[0][0]                     \n",
      "____________________________________________________________________________________________________\n",
      "convo2 (Convolution2D)           (None, 8, 25, 3)      983043      maxpooling2d_7[0][0]             \n",
      "____________________________________________________________________________________________________\n",
      "maxpooling2d_8 (MaxPooling2D)    (None, 4, 13, 3)      0           convo2[0][0]                     \n",
      "____________________________________________________________________________________________________\n",
      "convo3 (Convolution2D)           (None, 4, 13, 3)      2359299     maxpooling2d_8[0][0]             \n",
      "____________________________________________________________________________________________________\n",
      "maxpooling2d_9 (MaxPooling2D)    (None, 2, 7, 3)       0           convo3[0][0]                     \n",
      "____________________________________________________________________________________________________\n",
      "convo4 (Convolution2D)           (None, 2, 7, 3)       2359299     maxpooling2d_9[0][0]             \n",
      "____________________________________________________________________________________________________\n",
      "maxpooling2d_10 (MaxPooling2D)   (None, 1, 4, 3)       0           convo4[0][0]                     \n",
      "____________________________________________________________________________________________________\n",
      "flatten_2 (Flatten)              (None, 12)            0           maxpooling2d_10[0][0]            \n",
      "____________________________________________________________________________________________________\n",
      "dense_3 (Dense)                  (None, 4096)          53248       flatten_2[0][0]                  \n",
      "____________________________________________________________________________________________________\n",
      "dense_4 (Dense)                  (None, 4096)          16781312    dense_3[0][0]                    \n",
      "____________________________________________________________________________________________________\n",
      "dense_5 (Dense)                  (None, 851)           3486547     dense_4[0][0]                    \n",
      "____________________________________________________________________________________________________\n",
      "reshape_1 (Reshape)              (None, 23, 37)        0           dense_5[0][0]                    \n",
      "____________________________________________________________________________________________________\n",
      "activation_1 (Activation)        (None, 23, 37)        0           reshape_1[0][0]                  \n",
      "====================================================================================================\n",
      "Total params: 31,267,297\n",
      "Trainable params: 31,267,297\n",
      "Non-trainable params: 0\n",
      "____________________________________________________________________________________________________\n"
     ]
    }
   ],
   "source": [
    "cnn.summary()"
   ]
  },
  {
   "cell_type": "markdown",
   "metadata": {},
   "source": [
    "### Loading Images and Batch"
   ]
  },
  {
   "cell_type": "code",
   "execution_count": 3,
   "metadata": {
    "collapsed": false
   },
   "outputs": [],
   "source": [
    "from tqdm import tqdm, tqdm_notebook\n",
    "base_dir = '/mnt/c/Users/benoua/Google Drive/Master X - Data Sciences/2_Structured Data/Structured-Data/mjsynth'\n",
    "# base_dir = '/mnt/mjsynth/mnt/ramdisk/max/90kDICT32px/'\n",
    "\n",
    "images_paths = get_image_paths(base_dir)\n",
    "#%%time\n",
    "ims = []\n",
    "errors_1, errors_2 = [], []\n",
    "for i, im in enumerate(images_paths[:12]):\n",
    "    try:\n",
    "        ims.append(preprocess_image(img_to_array(load_img(im, grayscale=True))))\n",
    "    except OSError:\n",
    "        errors_1.append(i)"
   ]
  },
  {
   "cell_type": "code",
   "execution_count": 4,
   "metadata": {
    "collapsed": false
   },
   "outputs": [
    {
     "data": {
      "text/plain": [
       "(12, 32, 100, 1)"
      ]
     },
     "execution_count": 4,
     "metadata": {},
     "output_type": "execute_result"
    }
   ],
   "source": [
    "batch = np.stack(ims).reshape(12, 32, 100, 1)\n",
    "batch.shape"
   ]
  },
  {
   "cell_type": "code",
   "execution_count": 5,
   "metadata": {
    "collapsed": false
   },
   "outputs": [],
   "source": [
    "### NGram model output vector \n",
    "ngram_transformer = NgramTransform()"
   ]
  },
  {
   "cell_type": "code",
   "execution_count": 6,
   "metadata": {
    "collapsed": false
   },
   "outputs": [],
   "source": [
    "batch_y = ngram_transformer.make_batch_labels(images_paths[:12], False)\n",
    "batch_y = batch_y.reshape(batch_y.shape[0], batch_y.shape[2]).astype(float)"
   ]
  },
  {
   "cell_type": "markdown",
   "metadata": {},
   "source": [
    "### Predictions"
   ]
  },
  {
   "cell_type": "code",
   "execution_count": 7,
   "metadata": {
    "collapsed": true
   },
   "outputs": [],
   "source": [
    "predictions = cnn.predict(batch)"
   ]
  },
  {
   "cell_type": "code",
   "execution_count": 8,
   "metadata": {
    "collapsed": true
   },
   "outputs": [],
   "source": [
    "import pickle\n",
    "with open('tt_new.pickle', 'rb') as f:\n",
    "    tt = pickle.load(f)"
   ]
  },
  {
   "cell_type": "code",
   "execution_count": 9,
   "metadata": {
    "collapsed": false
   },
   "outputs": [
    {
     "name": "stdout",
     "output_type": "stream",
     "text": [
      "weolhn                  \t\t FOURTEENS\n",
      "postetesssss            \t\t RECKONINGS\n",
      "viess                   \t\t requisite\n",
      "oyees                   \t\t RELIGHTS\n",
      "sonseses                \t\t STIPULATES\n",
      "oyees                   \t\t Acidified\n",
      "voxes                   \t\t DUMB\n",
      "wiles                   \t\t SUITING\n",
      "wises                   \t\t altruists\n",
      "weodhnss                \t\t pillage\n",
      "weels                   \t\t SHEBANG\n",
      "vokss                   \t\t nantes\n"
     ]
    }
   ],
   "source": [
    "for i in range(12): \n",
    "    print (\"{} \\t\\t {}\".format(tt.word_from_matrix(predictions[i]), word_from_image_path(images_paths[i])))"
   ]
  },
  {
   "cell_type": "code",
   "execution_count": null,
   "metadata": {
    "collapsed": true
   },
   "outputs": [],
   "source": []
  }
 ],
 "metadata": {
  "anaconda-cloud": {},
  "kernelspec": {
   "display_name": "Python [default]",
   "language": "python",
   "name": "python3"
  },
  "language_info": {
   "codemirror_mode": {
    "name": "ipython",
    "version": 3
   },
   "file_extension": ".py",
   "mimetype": "text/x-python",
   "name": "python",
   "nbconvert_exporter": "python",
   "pygments_lexer": "ipython3",
   "version": "3.5.2"
  }
 },
 "nbformat": 4,
 "nbformat_minor": 1
}
